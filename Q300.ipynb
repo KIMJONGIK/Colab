{
  "nbformat": 4,
  "nbformat_minor": 0,
  "metadata": {
    "colab": {
      "provenance": [],
      "authorship_tag": "ABX9TyMVnHwbA6fpJZX83hJYVRIg",
      "include_colab_link": true
    },
    "kernelspec": {
      "name": "python3",
      "display_name": "Python 3"
    },
    "language_info": {
      "name": "python"
    }
  },
  "cells": [
    {
      "cell_type": "markdown",
      "metadata": {
        "id": "view-in-github",
        "colab_type": "text"
      },
      "source": [
        "<a href=\"https://colab.research.google.com/github/KIMJONGIK/Colab/blob/main/Q300.ipynb\" target=\"_parent\"><img src=\"https://colab.research.google.com/assets/colab-badge.svg\" alt=\"Open In Colab\"/></a>"
      ]
    },
    {
      "cell_type": "code",
      "execution_count": 1,
      "metadata": {
        "id": "ImLwQ4ui8TEB"
      },
      "outputs": [],
      "source": [
        "import numpy as np"
      ]
    },
    {
      "cell_type": "markdown",
      "source": [
        "#001 ~ 010"
      ],
      "metadata": {
        "id": "RIGL4bwOp5A9"
      }
    },
    {
      "cell_type": "code",
      "source": [
        "data = [1,2,3]\n",
        "data = np.array(data)\n",
        "data"
      ],
      "metadata": {
        "colab": {
          "base_uri": "https://localhost:8080/"
        },
        "id": "Ud1Oq-Ln8VmM",
        "outputId": "22ef4349-d30b-4b10-fa0d-fcfabe123be1"
      },
      "execution_count": 2,
      "outputs": [
        {
          "output_type": "execute_result",
          "data": {
            "text/plain": [
              "array([1, 2, 3])"
            ]
          },
          "metadata": {},
          "execution_count": 2
        }
      ]
    },
    {
      "cell_type": "code",
      "source": [
        "np.arange(100)"
      ],
      "metadata": {
        "colab": {
          "base_uri": "https://localhost:8080/"
        },
        "id": "rpC4WxcZ8em_",
        "outputId": "d29f1cd6-ae97-4a9e-eecf-5677c525fdc9"
      },
      "execution_count": 3,
      "outputs": [
        {
          "output_type": "execute_result",
          "data": {
            "text/plain": [
              "array([ 0,  1,  2,  3,  4,  5,  6,  7,  8,  9, 10, 11, 12, 13, 14, 15, 16,\n",
              "       17, 18, 19, 20, 21, 22, 23, 24, 25, 26, 27, 28, 29, 30, 31, 32, 33,\n",
              "       34, 35, 36, 37, 38, 39, 40, 41, 42, 43, 44, 45, 46, 47, 48, 49, 50,\n",
              "       51, 52, 53, 54, 55, 56, 57, 58, 59, 60, 61, 62, 63, 64, 65, 66, 67,\n",
              "       68, 69, 70, 71, 72, 73, 74, 75, 76, 77, 78, 79, 80, 81, 82, 83, 84,\n",
              "       85, 86, 87, 88, 89, 90, 91, 92, 93, 94, 95, 96, 97, 98, 99])"
            ]
          },
          "metadata": {},
          "execution_count": 3
        }
      ]
    },
    {
      "cell_type": "code",
      "source": [
        "arr = np.arange(3,30,3)\n",
        "arr"
      ],
      "metadata": {
        "colab": {
          "base_uri": "https://localhost:8080/"
        },
        "id": "sLeoiIvk8tRW",
        "outputId": "b090a70d-db95-4e7b-dbd6-5b5d761be8ec"
      },
      "execution_count": 4,
      "outputs": [
        {
          "output_type": "execute_result",
          "data": {
            "text/plain": [
              "array([ 3,  6,  9, 12, 15, 18, 21, 24, 27])"
            ]
          },
          "metadata": {},
          "execution_count": 4
        }
      ]
    },
    {
      "cell_type": "code",
      "source": [
        "np.arange(0,1000, 2)"
      ],
      "metadata": {
        "colab": {
          "base_uri": "https://localhost:8080/"
        },
        "id": "fZWEAkNq8qFK",
        "outputId": "96f60170-33b0-460f-976d-10d4dd49f48d"
      },
      "execution_count": 5,
      "outputs": [
        {
          "output_type": "execute_result",
          "data": {
            "text/plain": [
              "array([  0,   2,   4,   6,   8,  10,  12,  14,  16,  18,  20,  22,  24,\n",
              "        26,  28,  30,  32,  34,  36,  38,  40,  42,  44,  46,  48,  50,\n",
              "        52,  54,  56,  58,  60,  62,  64,  66,  68,  70,  72,  74,  76,\n",
              "        78,  80,  82,  84,  86,  88,  90,  92,  94,  96,  98, 100, 102,\n",
              "       104, 106, 108, 110, 112, 114, 116, 118, 120, 122, 124, 126, 128,\n",
              "       130, 132, 134, 136, 138, 140, 142, 144, 146, 148, 150, 152, 154,\n",
              "       156, 158, 160, 162, 164, 166, 168, 170, 172, 174, 176, 178, 180,\n",
              "       182, 184, 186, 188, 190, 192, 194, 196, 198, 200, 202, 204, 206,\n",
              "       208, 210, 212, 214, 216, 218, 220, 222, 224, 226, 228, 230, 232,\n",
              "       234, 236, 238, 240, 242, 244, 246, 248, 250, 252, 254, 256, 258,\n",
              "       260, 262, 264, 266, 268, 270, 272, 274, 276, 278, 280, 282, 284,\n",
              "       286, 288, 290, 292, 294, 296, 298, 300, 302, 304, 306, 308, 310,\n",
              "       312, 314, 316, 318, 320, 322, 324, 326, 328, 330, 332, 334, 336,\n",
              "       338, 340, 342, 344, 346, 348, 350, 352, 354, 356, 358, 360, 362,\n",
              "       364, 366, 368, 370, 372, 374, 376, 378, 380, 382, 384, 386, 388,\n",
              "       390, 392, 394, 396, 398, 400, 402, 404, 406, 408, 410, 412, 414,\n",
              "       416, 418, 420, 422, 424, 426, 428, 430, 432, 434, 436, 438, 440,\n",
              "       442, 444, 446, 448, 450, 452, 454, 456, 458, 460, 462, 464, 466,\n",
              "       468, 470, 472, 474, 476, 478, 480, 482, 484, 486, 488, 490, 492,\n",
              "       494, 496, 498, 500, 502, 504, 506, 508, 510, 512, 514, 516, 518,\n",
              "       520, 522, 524, 526, 528, 530, 532, 534, 536, 538, 540, 542, 544,\n",
              "       546, 548, 550, 552, 554, 556, 558, 560, 562, 564, 566, 568, 570,\n",
              "       572, 574, 576, 578, 580, 582, 584, 586, 588, 590, 592, 594, 596,\n",
              "       598, 600, 602, 604, 606, 608, 610, 612, 614, 616, 618, 620, 622,\n",
              "       624, 626, 628, 630, 632, 634, 636, 638, 640, 642, 644, 646, 648,\n",
              "       650, 652, 654, 656, 658, 660, 662, 664, 666, 668, 670, 672, 674,\n",
              "       676, 678, 680, 682, 684, 686, 688, 690, 692, 694, 696, 698, 700,\n",
              "       702, 704, 706, 708, 710, 712, 714, 716, 718, 720, 722, 724, 726,\n",
              "       728, 730, 732, 734, 736, 738, 740, 742, 744, 746, 748, 750, 752,\n",
              "       754, 756, 758, 760, 762, 764, 766, 768, 770, 772, 774, 776, 778,\n",
              "       780, 782, 784, 786, 788, 790, 792, 794, 796, 798, 800, 802, 804,\n",
              "       806, 808, 810, 812, 814, 816, 818, 820, 822, 824, 826, 828, 830,\n",
              "       832, 834, 836, 838, 840, 842, 844, 846, 848, 850, 852, 854, 856,\n",
              "       858, 860, 862, 864, 866, 868, 870, 872, 874, 876, 878, 880, 882,\n",
              "       884, 886, 888, 890, 892, 894, 896, 898, 900, 902, 904, 906, 908,\n",
              "       910, 912, 914, 916, 918, 920, 922, 924, 926, 928, 930, 932, 934,\n",
              "       936, 938, 940, 942, 944, 946, 948, 950, 952, 954, 956, 958, 960,\n",
              "       962, 964, 966, 968, 970, 972, 974, 976, 978, 980, 982, 984, 986,\n",
              "       988, 990, 992, 994, 996, 998])"
            ]
          },
          "metadata": {},
          "execution_count": 5
        }
      ]
    },
    {
      "cell_type": "code",
      "source": [
        "np.arange(0, 1, 0.1)"
      ],
      "metadata": {
        "colab": {
          "base_uri": "https://localhost:8080/"
        },
        "id": "KBsmvGv39P0G",
        "outputId": "3d26aa00-8b42-4970-c202-04a26bf7841f"
      },
      "execution_count": 6,
      "outputs": [
        {
          "output_type": "execute_result",
          "data": {
            "text/plain": [
              "array([0. , 0.1, 0.2, 0.3, 0.4, 0.5, 0.6, 0.7, 0.8, 0.9])"
            ]
          },
          "metadata": {},
          "execution_count": 6
        }
      ]
    },
    {
      "cell_type": "code",
      "source": [
        "data = [0, 1, 2, 3, 4, 5]\n",
        "data = np.array(data)\n",
        "data.reshape(2,-1)"
      ],
      "metadata": {
        "colab": {
          "base_uri": "https://localhost:8080/"
        },
        "id": "iM1l12zl9Knx",
        "outputId": "43d284df-c8c8-4237-c638-baa74f0c4f40"
      },
      "execution_count": 7,
      "outputs": [
        {
          "output_type": "execute_result",
          "data": {
            "text/plain": [
              "array([[0, 1, 2],\n",
              "       [3, 4, 5]])"
            ]
          },
          "metadata": {},
          "execution_count": 7
        }
      ]
    },
    {
      "cell_type": "code",
      "source": [
        "data = [0, 1, 2, 3, 4, 5]\n",
        "data = np.array(data)\n",
        "data.reshape(-1,3)"
      ],
      "metadata": {
        "colab": {
          "base_uri": "https://localhost:8080/"
        },
        "id": "UD6k5_kv9h26",
        "outputId": "e1c56998-0a82-4929-92b0-cd3d1eb8a722"
      },
      "execution_count": 8,
      "outputs": [
        {
          "output_type": "execute_result",
          "data": {
            "text/plain": [
              "array([[0, 1, 2],\n",
              "       [3, 4, 5]])"
            ]
          },
          "metadata": {},
          "execution_count": 8
        }
      ]
    },
    {
      "cell_type": "code",
      "source": [
        "arr = np.array([\n",
        "    [0, 1, 2],\n",
        "    [3, 4, 5]\n",
        "])\n",
        "arr.reshape(-1)"
      ],
      "metadata": {
        "colab": {
          "base_uri": "https://localhost:8080/"
        },
        "id": "D6N6Ok-G9um2",
        "outputId": "c4aa04e8-94fb-42f6-995d-190948bdd78d"
      },
      "execution_count": 9,
      "outputs": [
        {
          "output_type": "execute_result",
          "data": {
            "text/plain": [
              "array([0, 1, 2, 3, 4, 5])"
            ]
          },
          "metadata": {},
          "execution_count": 9
        }
      ]
    },
    {
      "cell_type": "code",
      "source": [
        "arr = np.array([\n",
        "    [0, 1, 2],\n",
        "    [3, 4, 5]\n",
        "])\n",
        "arr.reshape(6)"
      ],
      "metadata": {
        "colab": {
          "base_uri": "https://localhost:8080/"
        },
        "id": "ak2tyPmS93RL",
        "outputId": "aaafc2cb-86ac-4103-cffa-c490bb043c0c"
      },
      "execution_count": 10,
      "outputs": [
        {
          "output_type": "execute_result",
          "data": {
            "text/plain": [
              "array([0, 1, 2, 3, 4, 5])"
            ]
          },
          "metadata": {},
          "execution_count": 10
        }
      ]
    },
    {
      "cell_type": "code",
      "source": [
        "arr = np.array([\n",
        "    [0, 1, 2],\n",
        "    [3, 4, 5]\n",
        "])\n",
        "arr.flatten()"
      ],
      "metadata": {
        "colab": {
          "base_uri": "https://localhost:8080/"
        },
        "id": "4x_pGzMr9_Dt",
        "outputId": "6e7d7baf-e348-48e5-e80a-812f1c487574"
      },
      "execution_count": 11,
      "outputs": [
        {
          "output_type": "execute_result",
          "data": {
            "text/plain": [
              "array([0, 1, 2, 3, 4, 5])"
            ]
          },
          "metadata": {},
          "execution_count": 11
        }
      ]
    },
    {
      "cell_type": "code",
      "source": [
        "arr = np.arange(3)\n",
        "arr"
      ],
      "metadata": {
        "colab": {
          "base_uri": "https://localhost:8080/"
        },
        "id": "Iv_RFwp7-dP7",
        "outputId": "f73793a2-7178-4f9c-ff7a-525820a6e6b2"
      },
      "execution_count": 12,
      "outputs": [
        {
          "output_type": "execute_result",
          "data": {
            "text/plain": [
              "array([0, 1, 2])"
            ]
          },
          "metadata": {},
          "execution_count": 12
        }
      ]
    },
    {
      "cell_type": "code",
      "source": [
        "arr.reshape(3,1)"
      ],
      "metadata": {
        "colab": {
          "base_uri": "https://localhost:8080/"
        },
        "id": "wcn6v9L9-uBD",
        "outputId": "4ee8697f-3962-45cd-9e94-6d8e4167394d"
      },
      "execution_count": 13,
      "outputs": [
        {
          "output_type": "execute_result",
          "data": {
            "text/plain": [
              "array([[0],\n",
              "       [1],\n",
              "       [2]])"
            ]
          },
          "metadata": {},
          "execution_count": 13
        }
      ]
    },
    {
      "cell_type": "markdown",
      "source": [
        "#011~020"
      ],
      "metadata": {
        "id": "eZKiWKyAq_qd"
      }
    },
    {
      "cell_type": "code",
      "source": [
        "np.arange(6).reshape(2,-1)"
      ],
      "metadata": {
        "colab": {
          "base_uri": "https://localhost:8080/"
        },
        "id": "Nn403tZI-sZr",
        "outputId": "d595b675-08a3-49c1-8bcc-fba08884eeb6"
      },
      "execution_count": 14,
      "outputs": [
        {
          "output_type": "execute_result",
          "data": {
            "text/plain": [
              "array([[0, 1, 2],\n",
              "       [3, 4, 5]])"
            ]
          },
          "metadata": {},
          "execution_count": 14
        }
      ]
    },
    {
      "cell_type": "code",
      "source": [
        "np.ones(20, dtype=int)"
      ],
      "metadata": {
        "colab": {
          "base_uri": "https://localhost:8080/"
        },
        "id": "-0XDxVs6-6tL",
        "outputId": "5a04ed3e-680f-483b-9209-7dd6ce4bc499"
      },
      "execution_count": 15,
      "outputs": [
        {
          "output_type": "execute_result",
          "data": {
            "text/plain": [
              "array([1, 1, 1, 1, 1, 1, 1, 1, 1, 1, 1, 1, 1, 1, 1, 1, 1, 1, 1, 1])"
            ]
          },
          "metadata": {},
          "execution_count": 15
        }
      ]
    },
    {
      "cell_type": "code",
      "source": [
        "np.ones(20, dtype=int).reshape(4,-1)"
      ],
      "metadata": {
        "colab": {
          "base_uri": "https://localhost:8080/"
        },
        "id": "Eohsx2i7_HEb",
        "outputId": "273b0162-bd7b-4e7e-87fc-69c9a800c119"
      },
      "execution_count": 16,
      "outputs": [
        {
          "output_type": "execute_result",
          "data": {
            "text/plain": [
              "array([[1, 1, 1, 1, 1],\n",
              "       [1, 1, 1, 1, 1],\n",
              "       [1, 1, 1, 1, 1],\n",
              "       [1, 1, 1, 1, 1]])"
            ]
          },
          "metadata": {},
          "execution_count": 16
        }
      ]
    },
    {
      "cell_type": "code",
      "source": [
        "np.ones(100, dtype=int).reshape(10, -1)*255"
      ],
      "metadata": {
        "colab": {
          "base_uri": "https://localhost:8080/"
        },
        "id": "1r3dK-GI_VG-",
        "outputId": "8d7c1820-6c1c-4495-8a3e-bf4843528447"
      },
      "execution_count": 17,
      "outputs": [
        {
          "output_type": "execute_result",
          "data": {
            "text/plain": [
              "array([[255, 255, 255, 255, 255, 255, 255, 255, 255, 255],\n",
              "       [255, 255, 255, 255, 255, 255, 255, 255, 255, 255],\n",
              "       [255, 255, 255, 255, 255, 255, 255, 255, 255, 255],\n",
              "       [255, 255, 255, 255, 255, 255, 255, 255, 255, 255],\n",
              "       [255, 255, 255, 255, 255, 255, 255, 255, 255, 255],\n",
              "       [255, 255, 255, 255, 255, 255, 255, 255, 255, 255],\n",
              "       [255, 255, 255, 255, 255, 255, 255, 255, 255, 255],\n",
              "       [255, 255, 255, 255, 255, 255, 255, 255, 255, 255],\n",
              "       [255, 255, 255, 255, 255, 255, 255, 255, 255, 255],\n",
              "       [255, 255, 255, 255, 255, 255, 255, 255, 255, 255]])"
            ]
          },
          "metadata": {},
          "execution_count": 17
        }
      ]
    },
    {
      "cell_type": "code",
      "source": [
        "np.zeros((3,4))"
      ],
      "metadata": {
        "colab": {
          "base_uri": "https://localhost:8080/"
        },
        "id": "KS-LfT9D_dDY",
        "outputId": "b43c3ff4-3e15-441b-90c8-7a50b58557a4"
      },
      "execution_count": 18,
      "outputs": [
        {
          "output_type": "execute_result",
          "data": {
            "text/plain": [
              "array([[0., 0., 0., 0.],\n",
              "       [0., 0., 0., 0.],\n",
              "       [0., 0., 0., 0.]])"
            ]
          },
          "metadata": {},
          "execution_count": 18
        }
      ]
    },
    {
      "cell_type": "code",
      "source": [
        "np.arange(1,4,1, dtype=np.int32)"
      ],
      "metadata": {
        "colab": {
          "base_uri": "https://localhost:8080/"
        },
        "id": "BLp2yydq_oyy",
        "outputId": "6357bfcd-ccdb-4987-bb1b-1bca393da272"
      },
      "execution_count": 19,
      "outputs": [
        {
          "output_type": "execute_result",
          "data": {
            "text/plain": [
              "array([1, 2, 3], dtype=int32)"
            ]
          },
          "metadata": {},
          "execution_count": 19
        }
      ]
    },
    {
      "cell_type": "code",
      "source": [
        "data = [1,2,3]\n",
        "arr = np.ndarray(data, dtype=np.int32)\n",
        "arr"
      ],
      "metadata": {
        "colab": {
          "base_uri": "https://localhost:8080/"
        },
        "id": "IfXXvlFw_3OO",
        "outputId": "1c759799-3df1-4fe7-b7dc-489a92e80b97"
      },
      "execution_count": 20,
      "outputs": [
        {
          "output_type": "execute_result",
          "data": {
            "text/plain": [
              "array([[[31232512,        0,        0],\n",
              "        [       0,        0,        0]]], dtype=int32)"
            ]
          },
          "metadata": {},
          "execution_count": 20
        }
      ]
    },
    {
      "cell_type": "code",
      "source": [
        "arr = np.array(['1', '2', '3'])\n",
        "print(arr.dtype)"
      ],
      "metadata": {
        "colab": {
          "base_uri": "https://localhost:8080/"
        },
        "id": "3dDcaR6xAHSS",
        "outputId": "b10582e8-62f1-4dbd-cefb-f8f7b9d607e2"
      },
      "execution_count": 21,
      "outputs": [
        {
          "output_type": "stream",
          "name": "stdout",
          "text": [
            "<U1\n"
          ]
        }
      ]
    },
    {
      "cell_type": "code",
      "source": [
        "arr = np.array([1,2,3])\n",
        "arr.astype(np.int16)"
      ],
      "metadata": {
        "colab": {
          "base_uri": "https://localhost:8080/"
        },
        "id": "UYlBf8NE_8PC",
        "outputId": "1b771b09-2454-48b5-ea33-05bd83d2b500"
      },
      "execution_count": 22,
      "outputs": [
        {
          "output_type": "execute_result",
          "data": {
            "text/plain": [
              "array([1, 2, 3], dtype=int16)"
            ]
          },
          "metadata": {},
          "execution_count": 22
        }
      ]
    },
    {
      "cell_type": "code",
      "source": [
        "a = np.array( [ 255, 300, 128], dtype=np.uint8 )\n",
        "a"
      ],
      "metadata": {
        "colab": {
          "base_uri": "https://localhost:8080/"
        },
        "id": "TBBzhwi1_mFA",
        "outputId": "c4aeae69-6c5a-48d6-a71d-2462736a6c97"
      },
      "execution_count": 23,
      "outputs": [
        {
          "output_type": "execute_result",
          "data": {
            "text/plain": [
              "array([255,  44, 128], dtype=uint8)"
            ]
          },
          "metadata": {},
          "execution_count": 23
        }
      ]
    },
    {
      "cell_type": "markdown",
      "source": [
        "#021~030"
      ],
      "metadata": {
        "id": "tmaYe1kgrHaz"
      }
    },
    {
      "cell_type": "code",
      "source": [
        "import numpy as np\n",
        "arr = np.array([1.1, 2.1, 3.1])\n",
        "arr2 = arr.astype(np.int32)\n",
        "arr2"
      ],
      "metadata": {
        "id": "--0YhT1s_ixk",
        "colab": {
          "base_uri": "https://localhost:8080/"
        },
        "outputId": "6cb18cb2-27c1-4514-b981-5a413b78b40f"
      },
      "execution_count": 24,
      "outputs": [
        {
          "output_type": "execute_result",
          "data": {
            "text/plain": [
              "array([1, 2, 3], dtype=int32)"
            ]
          },
          "metadata": {},
          "execution_count": 24
        }
      ]
    },
    {
      "cell_type": "code",
      "source": [
        "np.linspace(0, 10, 20)"
      ],
      "metadata": {
        "colab": {
          "base_uri": "https://localhost:8080/"
        },
        "id": "mbCuh2XQtKZc",
        "outputId": "0ead0cf0-5d77-44f1-c500-6352035d494b"
      },
      "execution_count": 25,
      "outputs": [
        {
          "output_type": "execute_result",
          "data": {
            "text/plain": [
              "array([ 0.        ,  0.52631579,  1.05263158,  1.57894737,  2.10526316,\n",
              "        2.63157895,  3.15789474,  3.68421053,  4.21052632,  4.73684211,\n",
              "        5.26315789,  5.78947368,  6.31578947,  6.84210526,  7.36842105,\n",
              "        7.89473684,  8.42105263,  8.94736842,  9.47368421, 10.        ])"
            ]
          },
          "metadata": {},
          "execution_count": 25
        }
      ]
    },
    {
      "cell_type": "code",
      "source": [
        "arr = np.arange(9).reshape(3, 3)\n",
        "arr[2:]"
      ],
      "metadata": {
        "colab": {
          "base_uri": "https://localhost:8080/"
        },
        "id": "rQc7iZdcuALb",
        "outputId": "6b493d4a-71ff-4a3b-af4f-f03c1b21868e"
      },
      "execution_count": 26,
      "outputs": [
        {
          "output_type": "execute_result",
          "data": {
            "text/plain": [
              "array([[6, 7, 8]])"
            ]
          },
          "metadata": {},
          "execution_count": 26
        }
      ]
    },
    {
      "cell_type": "code",
      "source": [
        "arr = np.arange(9).reshape(3, 3)\n",
        "arr[2:3]"
      ],
      "metadata": {
        "colab": {
          "base_uri": "https://localhost:8080/"
        },
        "id": "NvRFimlAaQJy",
        "outputId": "3b88a2e8-6e74-479b-940c-9d471bf15830"
      },
      "execution_count": 27,
      "outputs": [
        {
          "output_type": "execute_result",
          "data": {
            "text/plain": [
              "array([[6, 7, 8]])"
            ]
          },
          "metadata": {},
          "execution_count": 27
        }
      ]
    },
    {
      "cell_type": "code",
      "source": [
        "arr = np.arange(9).reshape(3, 3)\n",
        "arr[2]"
      ],
      "metadata": {
        "colab": {
          "base_uri": "https://localhost:8080/"
        },
        "id": "EufICYb4Z9I6",
        "outputId": "0090bbc0-2937-42ba-f637-ecc5a102f70f"
      },
      "execution_count": 28,
      "outputs": [
        {
          "output_type": "execute_result",
          "data": {
            "text/plain": [
              "array([6, 7, 8])"
            ]
          },
          "metadata": {},
          "execution_count": 28
        }
      ]
    },
    {
      "cell_type": "code",
      "source": [
        "arr = np.arange(9).reshape(3, 3)\n",
        "arr[-1]"
      ],
      "metadata": {
        "colab": {
          "base_uri": "https://localhost:8080/"
        },
        "id": "B0l3c9_9aAMU",
        "outputId": "c2889df5-4e21-4286-d656-a797c9bb7422"
      },
      "execution_count": 29,
      "outputs": [
        {
          "output_type": "execute_result",
          "data": {
            "text/plain": [
              "array([6, 7, 8])"
            ]
          },
          "metadata": {},
          "execution_count": 29
        }
      ]
    },
    {
      "cell_type": "code",
      "source": [
        "arr = np.arange(9).reshape(3, 3)\n",
        "arr[-1:]"
      ],
      "metadata": {
        "colab": {
          "base_uri": "https://localhost:8080/"
        },
        "id": "rEFSfVrIaKOz",
        "outputId": "7e81b057-16e7-471f-fdbb-e648cb95fc00"
      },
      "execution_count": 30,
      "outputs": [
        {
          "output_type": "execute_result",
          "data": {
            "text/plain": [
              "array([[6, 7, 8]])"
            ]
          },
          "metadata": {},
          "execution_count": 30
        }
      ]
    },
    {
      "cell_type": "code",
      "source": [
        "arr = np.arange(25).reshape(5, 5)\n",
        "arr[3,2]"
      ],
      "metadata": {
        "colab": {
          "base_uri": "https://localhost:8080/"
        },
        "id": "zVmzZOc5aXQK",
        "outputId": "b570b00c-04c3-4d8a-9203-4c8901806ea0"
      },
      "execution_count": 31,
      "outputs": [
        {
          "output_type": "execute_result",
          "data": {
            "text/plain": [
              "17"
            ]
          },
          "metadata": {},
          "execution_count": 31
        }
      ]
    },
    {
      "cell_type": "code",
      "source": [
        "arr = np.arange(25).reshape(5, 5)\n",
        "arr[3][2]"
      ],
      "metadata": {
        "colab": {
          "base_uri": "https://localhost:8080/"
        },
        "id": "gCjNpoWvanpC",
        "outputId": "78d134b6-8a76-428a-c9d8-7aaa65621ff8"
      },
      "execution_count": 32,
      "outputs": [
        {
          "output_type": "execute_result",
          "data": {
            "text/plain": [
              "17"
            ]
          },
          "metadata": {},
          "execution_count": 32
        }
      ]
    },
    {
      "cell_type": "code",
      "source": [
        "arr = np.arange(25).reshape(5, 5)\n",
        "arr[1,1:5]"
      ],
      "metadata": {
        "colab": {
          "base_uri": "https://localhost:8080/"
        },
        "id": "SRZJZVgpasGa",
        "outputId": "e34f14d9-0f1d-48e7-d515-e638b8eb9bf7"
      },
      "execution_count": 33,
      "outputs": [
        {
          "output_type": "execute_result",
          "data": {
            "text/plain": [
              "array([6, 7, 8, 9])"
            ]
          },
          "metadata": {},
          "execution_count": 33
        }
      ]
    },
    {
      "cell_type": "code",
      "source": [
        "arr = np.arange(25).reshape(5, 5)\n",
        "arr[1,1:]"
      ],
      "metadata": {
        "colab": {
          "base_uri": "https://localhost:8080/"
        },
        "id": "_GOEvlDCa1Ii",
        "outputId": "b3591c05-f3ce-4b66-b28a-58f008c88bcc"
      },
      "execution_count": 34,
      "outputs": [
        {
          "output_type": "execute_result",
          "data": {
            "text/plain": [
              "array([6, 7, 8, 9])"
            ]
          },
          "metadata": {},
          "execution_count": 34
        }
      ]
    },
    {
      "cell_type": "code",
      "source": [
        "arr = np.arange(25).reshape(5, 5)\n",
        "arr[:,0:2]"
      ],
      "metadata": {
        "colab": {
          "base_uri": "https://localhost:8080/"
        },
        "id": "cfnaoNwJa8H6",
        "outputId": "dd206678-7850-4634-cf90-2bd5216d7037"
      },
      "execution_count": 35,
      "outputs": [
        {
          "output_type": "execute_result",
          "data": {
            "text/plain": [
              "array([[ 0,  1],\n",
              "       [ 5,  6],\n",
              "       [10, 11],\n",
              "       [15, 16],\n",
              "       [20, 21]])"
            ]
          },
          "metadata": {},
          "execution_count": 35
        }
      ]
    },
    {
      "cell_type": "code",
      "source": [
        "arr = np.arange(25).reshape(5, 5)\n",
        "arr[:,:2]"
      ],
      "metadata": {
        "colab": {
          "base_uri": "https://localhost:8080/"
        },
        "id": "Uvtf7LQ0bLua",
        "outputId": "8effed40-7fe3-4725-a170-b6122272b349"
      },
      "execution_count": 36,
      "outputs": [
        {
          "output_type": "execute_result",
          "data": {
            "text/plain": [
              "array([[ 0,  1],\n",
              "       [ 5,  6],\n",
              "       [10, 11],\n",
              "       [15, 16],\n",
              "       [20, 21]])"
            ]
          },
          "metadata": {},
          "execution_count": 36
        }
      ]
    },
    {
      "cell_type": "code",
      "source": [
        "arr = np.arange(25).reshape(5, 5)\n",
        "arr[1:3,1:3]"
      ],
      "metadata": {
        "colab": {
          "base_uri": "https://localhost:8080/"
        },
        "id": "_35GtRGLbHTj",
        "outputId": "d7d6f24e-36e7-48c8-8a05-7e767d99d67b"
      },
      "execution_count": 37,
      "outputs": [
        {
          "output_type": "execute_result",
          "data": {
            "text/plain": [
              "array([[ 6,  7],\n",
              "       [11, 12]])"
            ]
          },
          "metadata": {},
          "execution_count": 37
        }
      ]
    },
    {
      "cell_type": "code",
      "source": [
        "arr = np.arange(25).reshape(5, 5)\n",
        "arr[[0,4]][:,[0,3]]"
      ],
      "metadata": {
        "colab": {
          "base_uri": "https://localhost:8080/"
        },
        "id": "P0-rmV1-bfMz",
        "outputId": "a68568b9-1e4e-4428-e810-bb17ddf7d38e"
      },
      "execution_count": 38,
      "outputs": [
        {
          "output_type": "execute_result",
          "data": {
            "text/plain": [
              "array([[ 0,  3],\n",
              "       [20, 23]])"
            ]
          },
          "metadata": {},
          "execution_count": 38
        }
      ]
    },
    {
      "cell_type": "markdown",
      "source": [
        "#031~040"
      ],
      "metadata": {
        "id": "nSOScW__dMFU"
      }
    },
    {
      "cell_type": "code",
      "source": [
        "data = [1, 2, 3]\n",
        "arr = np.array(data) * 10\n",
        "arr"
      ],
      "metadata": {
        "colab": {
          "base_uri": "https://localhost:8080/"
        },
        "id": "MIC3zO5QbY-y",
        "outputId": "5d23acbc-d32a-4aac-ce0b-5761ec77e315"
      },
      "execution_count": 39,
      "outputs": [
        {
          "output_type": "execute_result",
          "data": {
            "text/plain": [
              "array([10, 20, 30])"
            ]
          },
          "metadata": {},
          "execution_count": 39
        }
      ]
    },
    {
      "cell_type": "code",
      "source": [
        "data = [1, 2, 3]\n",
        "arr = np.array(data)**2\n",
        "arr"
      ],
      "metadata": {
        "colab": {
          "base_uri": "https://localhost:8080/"
        },
        "id": "GtYwiVlmbWF6",
        "outputId": "a7462e9e-8744-4961-ec8d-5e6e49d676b4"
      },
      "execution_count": 40,
      "outputs": [
        {
          "output_type": "execute_result",
          "data": {
            "text/plain": [
              "array([1, 4, 9])"
            ]
          },
          "metadata": {},
          "execution_count": 40
        }
      ]
    },
    {
      "cell_type": "code",
      "source": [
        "data = [1, 2, 3]\n",
        "arr = np.array(data) * np.array(data)\n",
        "arr"
      ],
      "metadata": {
        "colab": {
          "base_uri": "https://localhost:8080/"
        },
        "id": "DJIDn1oyd2_B",
        "outputId": "39494ab9-7491-4c44-994b-dea4786db086"
      },
      "execution_count": 41,
      "outputs": [
        {
          "output_type": "execute_result",
          "data": {
            "text/plain": [
              "array([1, 4, 9])"
            ]
          },
          "metadata": {},
          "execution_count": 41
        }
      ]
    },
    {
      "cell_type": "code",
      "source": [
        "data = [1, 2, 3]\n",
        "arr = np.sqrt(data)\n",
        "arr"
      ],
      "metadata": {
        "colab": {
          "base_uri": "https://localhost:8080/"
        },
        "id": "i9d923faeCoq",
        "outputId": "6b683448-8ca9-4c32-eeaa-78396f5be794"
      },
      "execution_count": 42,
      "outputs": [
        {
          "output_type": "execute_result",
          "data": {
            "text/plain": [
              "array([1.        , 1.41421356, 1.73205081])"
            ]
          },
          "metadata": {},
          "execution_count": 42
        }
      ]
    },
    {
      "cell_type": "code",
      "source": [
        "data = [1, 2, 3]\n",
        "arr = np.array(data) ** 0.5\n",
        "arr"
      ],
      "metadata": {
        "colab": {
          "base_uri": "https://localhost:8080/"
        },
        "id": "g8-4ueFfeIN6",
        "outputId": "393abdec-22a4-4de1-c7d5-36d5dc718854"
      },
      "execution_count": 43,
      "outputs": [
        {
          "output_type": "execute_result",
          "data": {
            "text/plain": [
              "array([1.        , 1.41421356, 1.73205081])"
            ]
          },
          "metadata": {},
          "execution_count": 43
        }
      ]
    },
    {
      "cell_type": "code",
      "source": [
        "score = np.array([\n",
        "    [10, 20],  # 중간고사\n",
        "    [14, 16]   # 기말고사\n",
        "])\n",
        "score.mean(axis=0)"
      ],
      "metadata": {
        "colab": {
          "base_uri": "https://localhost:8080/"
        },
        "id": "14FuFXrreS7a",
        "outputId": "f7d9ad31-0f76-4fb7-b322-5749ab159704"
      },
      "execution_count": 44,
      "outputs": [
        {
          "output_type": "execute_result",
          "data": {
            "text/plain": [
              "array([12., 18.])"
            ]
          },
          "metadata": {},
          "execution_count": 44
        }
      ]
    },
    {
      "cell_type": "code",
      "source": [
        "score = np.array([\n",
        "    [10, 20],  # 중간고사\n",
        "    [14, 16]   # 기말고사\n",
        "])\n",
        "score.std(axis=1)"
      ],
      "metadata": {
        "colab": {
          "base_uri": "https://localhost:8080/"
        },
        "id": "2l5-HjXneYcV",
        "outputId": "ea590d74-ac9e-493b-a0f5-e7d36b759750"
      },
      "execution_count": 45,
      "outputs": [
        {
          "output_type": "execute_result",
          "data": {
            "text/plain": [
              "array([5., 1.])"
            ]
          },
          "metadata": {},
          "execution_count": 45
        }
      ]
    },
    {
      "cell_type": "code",
      "source": [
        "a = np.arange(   4).reshape(2,2)\n",
        "b = np.arange(1, 5).reshape(2,2)\n",
        "a@b"
      ],
      "metadata": {
        "colab": {
          "base_uri": "https://localhost:8080/"
        },
        "id": "o9ahF3I0koAT",
        "outputId": "6137d587-e9bd-43f0-be14-fb8441983487"
      },
      "execution_count": 46,
      "outputs": [
        {
          "output_type": "execute_result",
          "data": {
            "text/plain": [
              "array([[ 3,  4],\n",
              "       [11, 16]])"
            ]
          },
          "metadata": {},
          "execution_count": 46
        }
      ]
    },
    {
      "cell_type": "code",
      "source": [
        "a = np.arange(   4).reshape(2,2)\n",
        "b = np.arange(1, 5).reshape(2,2)\n",
        "np.matmul(a,b)"
      ],
      "metadata": {
        "colab": {
          "base_uri": "https://localhost:8080/"
        },
        "id": "llDXv059kzAY",
        "outputId": "eab32fde-4420-4471-d437-d74769fbb266"
      },
      "execution_count": 47,
      "outputs": [
        {
          "output_type": "execute_result",
          "data": {
            "text/plain": [
              "array([[ 3,  4],\n",
              "       [11, 16]])"
            ]
          },
          "metadata": {},
          "execution_count": 47
        }
      ]
    },
    {
      "cell_type": "code",
      "source": [
        "arr = np.arange(10)\n",
        "arr[arr%2==0]"
      ],
      "metadata": {
        "colab": {
          "base_uri": "https://localhost:8080/"
        },
        "id": "296A9OT0lGaI",
        "outputId": "500d65f2-b87c-489a-8239-1138c3bbbc16"
      },
      "execution_count": 48,
      "outputs": [
        {
          "output_type": "execute_result",
          "data": {
            "text/plain": [
              "array([0, 2, 4, 6, 8])"
            ]
          },
          "metadata": {},
          "execution_count": 48
        }
      ]
    },
    {
      "cell_type": "code",
      "source": [
        "arr = np.arange(10)\n",
        "arr[arr%2==1]"
      ],
      "metadata": {
        "colab": {
          "base_uri": "https://localhost:8080/"
        },
        "id": "TmCihZVVlLBB",
        "outputId": "e65e4147-a90b-40ce-cb16-687dc1c2f9ba"
      },
      "execution_count": 49,
      "outputs": [
        {
          "output_type": "execute_result",
          "data": {
            "text/plain": [
              "array([1, 3, 5, 7, 9])"
            ]
          },
          "metadata": {},
          "execution_count": 49
        }
      ]
    },
    {
      "cell_type": "code",
      "source": [
        "arr = np.arange(10)\n",
        "arr[ (arr>3) & (arr<7) ]"
      ],
      "metadata": {
        "colab": {
          "base_uri": "https://localhost:8080/"
        },
        "id": "FMdMxwQPlOZA",
        "outputId": "1558dec2-27a2-4219-d8ee-1c4d929d5836"
      },
      "execution_count": 50,
      "outputs": [
        {
          "output_type": "execute_result",
          "data": {
            "text/plain": [
              "array([4, 5, 6])"
            ]
          },
          "metadata": {},
          "execution_count": 50
        }
      ]
    },
    {
      "cell_type": "markdown",
      "source": [
        "#041~050"
      ],
      "metadata": {
        "id": "9movfCPVlmPK"
      }
    },
    {
      "cell_type": "code",
      "source": [
        "arr = np.array([-1, 2, -3, 4])\n",
        "arr[arr<0]"
      ],
      "metadata": {
        "colab": {
          "base_uri": "https://localhost:8080/"
        },
        "id": "OlHZC3q8likI",
        "outputId": "9bf0ef5d-7009-44f9-b208-9b57e31bbf7d"
      },
      "execution_count": 51,
      "outputs": [
        {
          "output_type": "execute_result",
          "data": {
            "text/plain": [
              "array([-1, -3])"
            ]
          },
          "metadata": {},
          "execution_count": 51
        }
      ]
    },
    {
      "cell_type": "code",
      "source": [
        "arr = np.array([-1, 2, -3, 4])\n",
        "np.abs(arr)"
      ],
      "metadata": {
        "colab": {
          "base_uri": "https://localhost:8080/"
        },
        "id": "AKtO7BixlukS",
        "outputId": "706ad1b5-f5d6-4052-9ac7-df28028d3ba2"
      },
      "execution_count": 52,
      "outputs": [
        {
          "output_type": "execute_result",
          "data": {
            "text/plain": [
              "array([1, 2, 3, 4])"
            ]
          },
          "metadata": {},
          "execution_count": 52
        }
      ]
    },
    {
      "cell_type": "code",
      "source": [
        "abs(arr)"
      ],
      "metadata": {
        "colab": {
          "base_uri": "https://localhost:8080/"
        },
        "id": "PsdZ4KLYl4PC",
        "outputId": "6193d88f-1a27-4898-8232-b2c9f004f5a4"
      },
      "execution_count": 53,
      "outputs": [
        {
          "output_type": "execute_result",
          "data": {
            "text/plain": [
              "array([1, 2, 3, 4])"
            ]
          },
          "metadata": {},
          "execution_count": 53
        }
      ]
    },
    {
      "cell_type": "code",
      "source": [
        "arr[arr<0] = -arr[arr<0]\n",
        "arr"
      ],
      "metadata": {
        "colab": {
          "base_uri": "https://localhost:8080/"
        },
        "id": "Blc4vvuOl9Tm",
        "outputId": "1e3dc207-37c7-41e0-d3fb-d9426fa0cda6"
      },
      "execution_count": 54,
      "outputs": [
        {
          "output_type": "execute_result",
          "data": {
            "text/plain": [
              "array([1, 2, 3, 4])"
            ]
          },
          "metadata": {},
          "execution_count": 54
        }
      ]
    },
    {
      "cell_type": "code",
      "source": [
        "arr = np.array([-1, 2, -3, 4])\n",
        "arr[arr>=0] = arr[arr>=0] +10\n",
        "arr[arr<0] = arr[arr<0] -10\n",
        "arr"
      ],
      "metadata": {
        "colab": {
          "base_uri": "https://localhost:8080/"
        },
        "id": "nGQRx7zYl8AZ",
        "outputId": "4102b10d-c948-49c4-d321-6f3c9e44b12c"
      },
      "execution_count": 55,
      "outputs": [
        {
          "output_type": "execute_result",
          "data": {
            "text/plain": [
              "array([-11,  12, -13,  14])"
            ]
          },
          "metadata": {},
          "execution_count": 55
        }
      ]
    },
    {
      "cell_type": "code",
      "source": [
        "arr = np.array([-1, 2, -3, 4])\n",
        "np.where(arr >= 0, arr + 10, arr - 10)"
      ],
      "metadata": {
        "colab": {
          "base_uri": "https://localhost:8080/"
        },
        "id": "cSKeqR81mPqj",
        "outputId": "e9484e06-0c98-41ef-b407-4a213341c923"
      },
      "execution_count": 56,
      "outputs": [
        {
          "output_type": "execute_result",
          "data": {
            "text/plain": [
              "array([-11,  12, -13,  14])"
            ]
          },
          "metadata": {},
          "execution_count": 56
        }
      ]
    },
    {
      "cell_type": "code",
      "source": [
        "arr = [1, 2, 3, 4, 5]\n",
        "np.random.choice(arr,5, replace=False)"
      ],
      "metadata": {
        "colab": {
          "base_uri": "https://localhost:8080/"
        },
        "id": "DgFJFcyHmZIC",
        "outputId": "ebf7b6ba-8fcf-4ce9-f7e5-96bbf26b1a34"
      },
      "execution_count": 57,
      "outputs": [
        {
          "output_type": "execute_result",
          "data": {
            "text/plain": [
              "array([5, 1, 3, 2, 4])"
            ]
          },
          "metadata": {},
          "execution_count": 57
        }
      ]
    },
    {
      "cell_type": "code",
      "source": [
        "arr = np.array([1, 2, 3, 4, 5])\n",
        "np.argmin(arr)"
      ],
      "metadata": {
        "colab": {
          "base_uri": "https://localhost:8080/"
        },
        "id": "7QmLjQL8mdxS",
        "outputId": "9312df69-e701-4793-ed17-677a81c4dcf4"
      },
      "execution_count": 58,
      "outputs": [
        {
          "output_type": "execute_result",
          "data": {
            "text/plain": [
              "0"
            ]
          },
          "metadata": {},
          "execution_count": 58
        }
      ]
    },
    {
      "cell_type": "code",
      "source": [
        "arr = np.array([1, 2, 3, 4, 5])\n",
        "np.argmax(arr)"
      ],
      "metadata": {
        "colab": {
          "base_uri": "https://localhost:8080/"
        },
        "id": "jTgOjUXqmnlB",
        "outputId": "53ec4a2d-8715-4a3a-a5b6-79f0598f37ab"
      },
      "execution_count": 59,
      "outputs": [
        {
          "output_type": "execute_result",
          "data": {
            "text/plain": [
              "4"
            ]
          },
          "metadata": {},
          "execution_count": 59
        }
      ]
    },
    {
      "cell_type": "code",
      "source": [
        "arr = np.array([2, 1, 5, 3, 7, 4, 6, 8])\n",
        "arr.sort()\n",
        "arr"
      ],
      "metadata": {
        "colab": {
          "base_uri": "https://localhost:8080/"
        },
        "id": "1cswJibynYvm",
        "outputId": "2b8ff5c0-8b5c-4985-d787-ad8f886d2653"
      },
      "execution_count": 60,
      "outputs": [
        {
          "output_type": "execute_result",
          "data": {
            "text/plain": [
              "array([1, 2, 3, 4, 5, 6, 7, 8])"
            ]
          },
          "metadata": {},
          "execution_count": 60
        }
      ]
    },
    {
      "cell_type": "code",
      "source": [
        "arr = np.array([2, 1, 5, 3, 7, 4, 6, 8])\n",
        "np.sort(arr)"
      ],
      "metadata": {
        "colab": {
          "base_uri": "https://localhost:8080/"
        },
        "id": "w1IVBqqHnl7p",
        "outputId": "7d9237ef-9cc5-4d32-f421-a67c5671b8e4"
      },
      "execution_count": 61,
      "outputs": [
        {
          "output_type": "execute_result",
          "data": {
            "text/plain": [
              "array([1, 2, 3, 4, 5, 6, 7, 8])"
            ]
          },
          "metadata": {},
          "execution_count": 61
        }
      ]
    },
    {
      "cell_type": "code",
      "source": [
        "arr1 = np.array([1, 2])\n",
        "arr2 = np.array([3, 4])\n",
        "np.vstack([arr1,arr2])"
      ],
      "metadata": {
        "colab": {
          "base_uri": "https://localhost:8080/"
        },
        "id": "PkkdfKcsnpjI",
        "outputId": "4068d344-eef4-44f8-dd1b-4bda57ac2b23"
      },
      "execution_count": 62,
      "outputs": [
        {
          "output_type": "execute_result",
          "data": {
            "text/plain": [
              "array([[1, 2],\n",
              "       [3, 4]])"
            ]
          },
          "metadata": {},
          "execution_count": 62
        }
      ]
    },
    {
      "cell_type": "code",
      "source": [
        "arr = np.array([ [1, 2], [3, 4] ])\n",
        "arr.flatten()"
      ],
      "metadata": {
        "colab": {
          "base_uri": "https://localhost:8080/"
        },
        "id": "hRLJyCQBodup",
        "outputId": "ec63bd02-6743-4115-cb4d-30827e6c4fa5"
      },
      "execution_count": 63,
      "outputs": [
        {
          "output_type": "execute_result",
          "data": {
            "text/plain": [
              "array([1, 2, 3, 4])"
            ]
          },
          "metadata": {},
          "execution_count": 63
        }
      ]
    },
    {
      "cell_type": "markdown",
      "source": [
        "#051~060"
      ],
      "metadata": {
        "id": "yK3jAy2powEc"
      }
    },
    {
      "cell_type": "code",
      "source": [
        "import pandas as pd\n",
        "from pandas import Series"
      ],
      "metadata": {
        "id": "JwcTgpcMoxYD"
      },
      "execution_count": 64,
      "outputs": []
    },
    {
      "cell_type": "code",
      "source": [
        "data = [100, 200, 300]\n",
        "s = Series(data)\n",
        "print(s)"
      ],
      "metadata": {
        "colab": {
          "base_uri": "https://localhost:8080/"
        },
        "id": "s5qFmgwZo2-D",
        "outputId": "57ba9eb9-7a75-40b3-dfd1-d4e2c7c1122a"
      },
      "execution_count": 65,
      "outputs": [
        {
          "output_type": "stream",
          "name": "stdout",
          "text": [
            "0    100\n",
            "1    200\n",
            "2    300\n",
            "dtype: int64\n"
          ]
        }
      ]
    },
    {
      "cell_type": "code",
      "source": [
        "data = [100, 200, 300]\n",
        "index = [\"철수\", \"영희\", \"아름\"]\n",
        "s = Series(data, index)\n",
        "print(s)"
      ],
      "metadata": {
        "colab": {
          "base_uri": "https://localhost:8080/"
        },
        "id": "v4Cx9kADo6pi",
        "outputId": "69c0fe11-bef7-4e00-833f-185f62c7720e"
      },
      "execution_count": 66,
      "outputs": [
        {
          "output_type": "stream",
          "name": "stdout",
          "text": [
            "철수    100\n",
            "영희    200\n",
            "아름    300\n",
            "dtype: int64\n"
          ]
        }
      ]
    },
    {
      "cell_type": "code",
      "source": [
        "data = [100, 200, 300]\n",
        "index = [\"철수\", \"영희\", \"아름\"]\n",
        "s = Series(data)\n",
        "print(s)\n",
        "s.index = index\n",
        "print(s)"
      ],
      "metadata": {
        "colab": {
          "base_uri": "https://localhost:8080/"
        },
        "id": "mYRBbmBcpAHC",
        "outputId": "a5b963b9-69a1-4492-ac40-dcf370c3fd4c"
      },
      "execution_count": 67,
      "outputs": [
        {
          "output_type": "stream",
          "name": "stdout",
          "text": [
            "0    100\n",
            "1    200\n",
            "2    300\n",
            "dtype: int64\n",
            "철수    100\n",
            "영희    200\n",
            "아름    300\n",
            "dtype: int64\n"
          ]
        }
      ]
    },
    {
      "cell_type": "code",
      "source": [
        "score = {\n",
        "    \"철수\": 100,\n",
        "    \"영희\": 200,\n",
        "    \"아름\": 300\n",
        "}\n",
        "\n",
        "s = Series(score)\n",
        "print(s)"
      ],
      "metadata": {
        "colab": {
          "base_uri": "https://localhost:8080/"
        },
        "id": "CJYQppKromxR",
        "outputId": "628f7c9c-44df-4ec8-d769-612181d9622f"
      },
      "execution_count": 68,
      "outputs": [
        {
          "output_type": "stream",
          "name": "stdout",
          "text": [
            "철수    100\n",
            "영희    200\n",
            "아름    300\n",
            "dtype: int64\n"
          ]
        }
      ]
    },
    {
      "cell_type": "code",
      "source": [
        "data = [100, 200, 300]\n",
        "index = [\"철수\", \"영희\", \"아름\"]\n",
        "s = Series(data, index)\n",
        "print(s.index)"
      ],
      "metadata": {
        "colab": {
          "base_uri": "https://localhost:8080/"
        },
        "id": "UeBlKu6rpQhi",
        "outputId": "ded3783c-d079-4cf7-ee2b-bcafe73ca613"
      },
      "execution_count": 69,
      "outputs": [
        {
          "output_type": "stream",
          "name": "stdout",
          "text": [
            "Index(['철수', '영희', '아름'], dtype='object')\n"
          ]
        }
      ]
    },
    {
      "cell_type": "code",
      "source": [
        "data = [100, 200, 300]\n",
        "index = [\"철수\", \"영희\", \"아름\"]\n",
        "s = Series(data, index)\n",
        "print(s.values)"
      ],
      "metadata": {
        "colab": {
          "base_uri": "https://localhost:8080/"
        },
        "id": "KD_cbUChpaRw",
        "outputId": "a5e4ac56-75ea-48c5-9beb-5d00db2858df"
      },
      "execution_count": 70,
      "outputs": [
        {
          "output_type": "stream",
          "name": "stdout",
          "text": [
            "[100 200 300]\n"
          ]
        }
      ]
    },
    {
      "cell_type": "code",
      "source": [
        "data = [100, 200, 300]\n",
        "index = [\"철수\", \"영희\", \"아름\"]\n",
        "s = Series(data, index)\n",
        "print(s.to_dict())"
      ],
      "metadata": {
        "colab": {
          "base_uri": "https://localhost:8080/"
        },
        "id": "gqolAexZpdUR",
        "outputId": "e7c6214f-1531-43cd-c7c7-6789ad25e9b7"
      },
      "execution_count": 71,
      "outputs": [
        {
          "output_type": "stream",
          "name": "stdout",
          "text": [
            "{'철수': 100, '영희': 200, '아름': 300}\n"
          ]
        }
      ]
    },
    {
      "cell_type": "code",
      "source": [
        "data = [100, 200, 300]\n",
        "index = [\"철수\", \"영희\", \"아름\"]\n",
        "s = Series(data, index)\n",
        "s.to_excel('data.xlsx')"
      ],
      "metadata": {
        "id": "zXHJhOe4pjpA"
      },
      "execution_count": 72,
      "outputs": []
    },
    {
      "cell_type": "code",
      "source": [
        "data = pd.read_excel('data.xlsx', index_col=0)[0]\n",
        "data"
      ],
      "metadata": {
        "colab": {
          "base_uri": "https://localhost:8080/"
        },
        "id": "MmfkK-GApsux",
        "outputId": "7a0df309-3a28-46fc-c5d0-d1d1103a3166"
      },
      "execution_count": 73,
      "outputs": [
        {
          "output_type": "execute_result",
          "data": {
            "text/plain": [
              "철수    100\n",
              "영희    200\n",
              "아름    300\n",
              "Name: 0, dtype: int64"
            ]
          },
          "metadata": {},
          "execution_count": 73
        }
      ]
    },
    {
      "cell_type": "markdown",
      "source": [
        "#061~070"
      ],
      "metadata": {
        "id": "gG_XYkU0qNL1"
      }
    },
    {
      "cell_type": "code",
      "source": [
        "data = [100, 200, 300]\n",
        "index = [\"철수\", \"영희\", \"아름\"]\n",
        "s = Series(data, index)\n",
        "print(s.dtype)"
      ],
      "metadata": {
        "colab": {
          "base_uri": "https://localhost:8080/"
        },
        "id": "0fddjR-MqOjF",
        "outputId": "cdc5eaf3-5e7a-4a7f-e81a-134057fd2749"
      },
      "execution_count": 74,
      "outputs": [
        {
          "output_type": "stream",
          "name": "stdout",
          "text": [
            "int64\n"
          ]
        }
      ]
    },
    {
      "cell_type": "code",
      "source": [
        "data = [  10,  \"가\" ]\n",
        "s = Series( data )\n",
        "print(s.dtype)"
      ],
      "metadata": {
        "colab": {
          "base_uri": "https://localhost:8080/"
        },
        "id": "AxmXVJSlp4VL",
        "outputId": "e3befcc3-fc3a-4331-8f40-d98a82f6e088"
      },
      "execution_count": 75,
      "outputs": [
        {
          "output_type": "stream",
          "name": "stdout",
          "text": [
            "object\n"
          ]
        }
      ]
    },
    {
      "cell_type": "code",
      "source": [
        "data = [100, 200, 300]\n",
        "index = [\"철수\", \"영희\", \"아름\"]\n",
        "s = Series(data, index)\n",
        "print(s.index.dtype)"
      ],
      "metadata": {
        "colab": {
          "base_uri": "https://localhost:8080/"
        },
        "id": "Uz1OMV-vqZih",
        "outputId": "8c0b5069-22f9-41d1-c053-e7a0bee528d5"
      },
      "execution_count": 76,
      "outputs": [
        {
          "output_type": "stream",
          "name": "stdout",
          "text": [
            "object\n"
          ]
        }
      ]
    },
    {
      "cell_type": "code",
      "source": [
        "data = {\n",
        "    \"2020-12-11\": 73400,\n",
        "    \"2020-12-10\": 72900,\n",
        "    \"2020-12-09\": 73900,\n",
        "    \"2020-12-08\": 71700,\n",
        "    \"2020-12-07\": 72900\n",
        "}\n",
        "s = Series(data)\n",
        "s.name = \"종가\"\n",
        "s.index.name = \"날짜\"\n",
        "s"
      ],
      "metadata": {
        "colab": {
          "base_uri": "https://localhost:8080/"
        },
        "id": "0-3YASFTqfgY",
        "outputId": "38036a80-776c-4cf3-8453-60f097704463"
      },
      "execution_count": 77,
      "outputs": [
        {
          "output_type": "execute_result",
          "data": {
            "text/plain": [
              "날짜\n",
              "2020-12-11    73400\n",
              "2020-12-10    72900\n",
              "2020-12-09    73900\n",
              "2020-12-08    71700\n",
              "2020-12-07    72900\n",
              "Name: 종가, dtype: int64"
            ]
          },
          "metadata": {},
          "execution_count": 77
        }
      ]
    },
    {
      "cell_type": "code",
      "source": [
        "data = {\"apple\": 1500, \"banana\": 3000}\n",
        "s = pd.Series(data)\n",
        "s.to_dict()"
      ],
      "metadata": {
        "colab": {
          "base_uri": "https://localhost:8080/"
        },
        "id": "KnqIT4lDv70d",
        "outputId": "851787df-540f-4bb2-83d6-9fa66827396e"
      },
      "execution_count": 78,
      "outputs": [
        {
          "output_type": "execute_result",
          "data": {
            "text/plain": [
              "{'apple': 1500, 'banana': 3000}"
            ]
          },
          "metadata": {},
          "execution_count": 78
        }
      ]
    },
    {
      "cell_type": "code",
      "source": [
        "data = {\"apple\": 1500, \"banana\": 3000}\n",
        "s = pd.Series(data)\n",
        "s.index.name='icecream'\n",
        "s"
      ],
      "metadata": {
        "colab": {
          "base_uri": "https://localhost:8080/"
        },
        "id": "AyGw0LxBwMzf",
        "outputId": "37f2ea11-85dc-4525-c11a-44982d69b86b"
      },
      "execution_count": 79,
      "outputs": [
        {
          "output_type": "execute_result",
          "data": {
            "text/plain": [
              "icecream\n",
              "apple     1500\n",
              "banana    3000\n",
              "dtype: int64"
            ]
          },
          "metadata": {},
          "execution_count": 79
        }
      ]
    },
    {
      "cell_type": "code",
      "source": [
        "s = pd.Series(data=[1, 2, 3])\n",
        "s.name = 'number'\n",
        "s"
      ],
      "metadata": {
        "colab": {
          "base_uri": "https://localhost:8080/"
        },
        "id": "moZ8ZlDtwUSI",
        "outputId": "a133134e-c469-43bc-ca9c-bc3136229671"
      },
      "execution_count": 80,
      "outputs": [
        {
          "output_type": "execute_result",
          "data": {
            "text/plain": [
              "0    1\n",
              "1    2\n",
              "2    3\n",
              "Name: number, dtype: int64"
            ]
          },
          "metadata": {},
          "execution_count": 80
        }
      ]
    },
    {
      "cell_type": "code",
      "source": [
        "s = pd.Series(data=[1, 2, np.NaN])\n",
        "s"
      ],
      "metadata": {
        "colab": {
          "base_uri": "https://localhost:8080/"
        },
        "id": "NlGl8JpDwZg_",
        "outputId": "41c824b3-0758-4055-b840-f3abf92ce3c4"
      },
      "execution_count": 81,
      "outputs": [
        {
          "output_type": "execute_result",
          "data": {
            "text/plain": [
              "0    1.0\n",
              "1    2.0\n",
              "2    NaN\n",
              "dtype: float64"
            ]
          },
          "metadata": {},
          "execution_count": 81
        }
      ]
    },
    {
      "cell_type": "code",
      "source": [
        "s = pd.Series([1, 2, 3])\n",
        "np.array(s.index)"
      ],
      "metadata": {
        "colab": {
          "base_uri": "https://localhost:8080/"
        },
        "id": "NfMLPmunwhah",
        "outputId": "d38263d3-7261-4a33-823b-1a5831cc921a"
      },
      "execution_count": 82,
      "outputs": [
        {
          "output_type": "execute_result",
          "data": {
            "text/plain": [
              "array([0, 1, 2])"
            ]
          },
          "metadata": {},
          "execution_count": 82
        }
      ]
    },
    {
      "cell_type": "code",
      "source": [
        "s = pd.Series([1, 2, 3])\n",
        "print(s)\n",
        "s.array"
      ],
      "metadata": {
        "colab": {
          "base_uri": "https://localhost:8080/"
        },
        "id": "GSnbcmXLwm8j",
        "outputId": "dedfc232-3e8e-4074-f956-6bdd04787fc0"
      },
      "execution_count": 83,
      "outputs": [
        {
          "output_type": "stream",
          "name": "stdout",
          "text": [
            "0    1\n",
            "1    2\n",
            "2    3\n",
            "dtype: int64\n"
          ]
        },
        {
          "output_type": "execute_result",
          "data": {
            "text/plain": [
              "<PandasArray>\n",
              "[1, 2, 3]\n",
              "Length: 3, dtype: int64"
            ]
          },
          "metadata": {},
          "execution_count": 83
        }
      ]
    },
    {
      "cell_type": "markdown",
      "source": [
        "#071~080"
      ],
      "metadata": {
        "id": "y7anOfvuO2qO"
      }
    },
    {
      "cell_type": "code",
      "source": [
        "s = pd.Series([1, 2, 'python'])\n",
        "print(s.dtype)"
      ],
      "metadata": {
        "colab": {
          "base_uri": "https://localhost:8080/"
        },
        "id": "CHjJ42wJO5oN",
        "outputId": "4edfbb3f-d15f-4f61-fc4b-1ed271677b53"
      },
      "execution_count": 84,
      "outputs": [
        {
          "output_type": "stream",
          "name": "stdout",
          "text": [
            "object\n"
          ]
        }
      ]
    },
    {
      "cell_type": "code",
      "source": [
        "s = pd.Series(['1', '2', '3'])\n",
        "s.astype('int32')"
      ],
      "metadata": {
        "colab": {
          "base_uri": "https://localhost:8080/"
        },
        "id": "I3Pow6YvPDWK",
        "outputId": "9e296a14-0013-43e0-b3e9-2b5d17cd5132"
      },
      "execution_count": 88,
      "outputs": [
        {
          "output_type": "execute_result",
          "data": {
            "text/plain": [
              "0    1\n",
              "1    2\n",
              "2    3\n",
              "dtype: int32"
            ]
          },
          "metadata": {},
          "execution_count": 88
        }
      ]
    },
    {
      "cell_type": "code",
      "source": [
        "tickers = [\"BTC\", \"XRP\", \"ETH\"]\n",
        "prices = [50000, 1, 4000]\n",
        "\n",
        "s = Series(data=prices, index=tickers, dtype='float')\n",
        "s"
      ],
      "metadata": {
        "id": "u5IuAvABw1D6",
        "colab": {
          "base_uri": "https://localhost:8080/"
        },
        "outputId": "d330fb50-1d5f-47c4-a35c-2e1a43a80e57"
      },
      "execution_count": 89,
      "outputs": [
        {
          "output_type": "execute_result",
          "data": {
            "text/plain": [
              "BTC    50000.0\n",
              "XRP        1.0\n",
              "ETH     4000.0\n",
              "dtype: float64"
            ]
          },
          "metadata": {},
          "execution_count": 89
        }
      ]
    },
    {
      "cell_type": "code",
      "source": [
        "data = [100, 200, 300]\n",
        "index = [\"철수\", \"영희\", \"아름\"]\n",
        "s = Series(data=data, index=index)\n",
        "s['영희']"
      ],
      "metadata": {
        "colab": {
          "base_uri": "https://localhost:8080/"
        },
        "id": "7GBy0GSIPcq2",
        "outputId": "0b31bdec-4d30-4750-87f7-d15e86783072"
      },
      "execution_count": 91,
      "outputs": [
        {
          "output_type": "execute_result",
          "data": {
            "text/plain": [
              "200"
            ]
          },
          "metadata": {},
          "execution_count": 91
        }
      ]
    },
    {
      "cell_type": "code",
      "source": [
        "data = [100, 200, 300]\n",
        "index = [\"철수\", \"영희\", \"아름\"]\n",
        "s = Series(data=data, index=index)\n",
        "s.iloc[1]"
      ],
      "metadata": {
        "colab": {
          "base_uri": "https://localhost:8080/"
        },
        "id": "TV7MyBWDPqkM",
        "outputId": "aad37ee9-0c8f-4705-e1b1-4b40c78e95d8"
      },
      "execution_count": 92,
      "outputs": [
        {
          "output_type": "execute_result",
          "data": {
            "text/plain": [
              "200"
            ]
          },
          "metadata": {},
          "execution_count": 92
        }
      ]
    },
    {
      "cell_type": "code",
      "source": [
        "data = [100, 200, 300]\n",
        "index = [\"철수\", \"영희\", \"아름\"]\n",
        "s = Series(data=data, index=index)\n",
        "s.loc['영희']"
      ],
      "metadata": {
        "colab": {
          "base_uri": "https://localhost:8080/"
        },
        "id": "S8Ja1SK7P19F",
        "outputId": "2abd6462-b335-49c5-9975-7fee07b4b80c"
      },
      "execution_count": 93,
      "outputs": [
        {
          "output_type": "execute_result",
          "data": {
            "text/plain": [
              "200"
            ]
          },
          "metadata": {},
          "execution_count": 93
        }
      ]
    },
    {
      "cell_type": "code",
      "source": [
        "data = [100, 200, 300]\n",
        "index = [\"철수\", \"영희\", \"아름\"]\n",
        "s = Series(data=data, index=index)\n",
        "s.영희"
      ],
      "metadata": {
        "colab": {
          "base_uri": "https://localhost:8080/"
        },
        "id": "mYo20vCVP8Vt",
        "outputId": "a4e52639-cab3-4071-aee8-b97290a2c115"
      },
      "execution_count": 96,
      "outputs": [
        {
          "output_type": "execute_result",
          "data": {
            "text/plain": [
              "200"
            ]
          },
          "metadata": {},
          "execution_count": 96
        }
      ]
    },
    {
      "cell_type": "code",
      "source": [
        "data = [100, 200, 300]\n",
        "index = [\"철수\", \"영희\", \"아름\"]\n",
        "s = Series(data=data, index=index)\n",
        "\n",
        "print(s.iloc[0:2])\n",
        "print(s.iloc[:2])\n",
        "print(s.loc[\"철수\":\"영희\"])\n",
        "print(s.loc[:'영희'])\n",
        "print(s[0:2])\n",
        "print(s[ :2])\n",
        "print(s[\"철수\":\"영희\"])\n",
        "print(s[:\"영희\"])\n",
        "print(s.values[:2])"
      ],
      "metadata": {
        "colab": {
          "base_uri": "https://localhost:8080/"
        },
        "id": "9_CYgd6DQGNI",
        "outputId": "93d7dd58-1959-4bf9-810a-473f033d159d"
      },
      "execution_count": 108,
      "outputs": [
        {
          "output_type": "stream",
          "name": "stdout",
          "text": [
            "철수    100\n",
            "영희    200\n",
            "dtype: int64\n",
            "철수    100\n",
            "영희    200\n",
            "dtype: int64\n",
            "철수    100\n",
            "영희    200\n",
            "dtype: int64\n",
            "철수    100\n",
            "영희    200\n",
            "dtype: int64\n",
            "철수    100\n",
            "영희    200\n",
            "dtype: int64\n",
            "철수    100\n",
            "영희    200\n",
            "dtype: int64\n",
            "철수    100\n",
            "영희    200\n",
            "dtype: int64\n",
            "철수    100\n",
            "영희    200\n",
            "dtype: int64\n",
            "[100 200]\n"
          ]
        }
      ]
    },
    {
      "cell_type": "code",
      "source": [
        "data = [100, 200, 300, 400, 500, 600]\n",
        "index = [\"08/01\", \"08/02\", \"08/03\", \"08/04\", \"08/05\", \"08/06\"]\n",
        "s = Series(data=data, index=index)\n",
        "\n",
        "print(s.index[:3])\n",
        "print(s[:3].index)"
      ],
      "metadata": {
        "colab": {
          "base_uri": "https://localhost:8080/"
        },
        "id": "GmHXZS4zQkmX",
        "outputId": "d3d8c82e-8e02-4721-d15b-31fe4af19793"
      },
      "execution_count": 114,
      "outputs": [
        {
          "output_type": "stream",
          "name": "stdout",
          "text": [
            "Index(['08/01', '08/02', '08/03'], dtype='object')\n",
            "Index(['08/01', '08/02', '08/03'], dtype='object')\n"
          ]
        }
      ]
    },
    {
      "cell_type": "code",
      "source": [
        "data = [100, 200, 300, 400, 500, 600] \n",
        "index = [\"08/01\", \"08/02\", \"08/03\", \"08/04\", \"08/05\", \"08/06\"] \n",
        "s = Series(data=data, index=index)\n",
        "\n",
        "print(s.iloc[::2])\n",
        "print(s.iloc[1::2])\n",
        "print(s.iloc[[0, 2, 4]])\n",
        "\n",
        "print(s[[\"08/01\", \"08/03\", \"08/05\"]])\n",
        "print(s[\"08/02\":\"08/05\":2])\n",
        "print(s[:\"08/05\":2])\n",
        "print(s[\"08/01\"::2])\n",
        "print(s[::2])"
      ],
      "metadata": {
        "colab": {
          "base_uri": "https://localhost:8080/"
        },
        "id": "5EylStJJRakd",
        "outputId": "e0c6b256-b3bc-490d-f246-b80cf69d8525"
      },
      "execution_count": 127,
      "outputs": [
        {
          "output_type": "stream",
          "name": "stdout",
          "text": [
            "08/01    100\n",
            "08/03    300\n",
            "08/05    500\n",
            "dtype: int64\n",
            "08/02    200\n",
            "08/04    400\n",
            "08/06    600\n",
            "dtype: int64\n",
            "08/01    100\n",
            "08/03    300\n",
            "08/05    500\n",
            "dtype: int64\n",
            "08/01    100\n",
            "08/03    300\n",
            "08/05    500\n",
            "dtype: int64\n",
            "08/02    200\n",
            "08/04    400\n",
            "dtype: int64\n",
            "08/01    100\n",
            "08/03    300\n",
            "08/05    500\n",
            "dtype: int64\n",
            "08/01    100\n",
            "08/03    300\n",
            "08/05    500\n",
            "dtype: int64\n",
            "08/01    100\n",
            "08/03    300\n",
            "08/05    500\n",
            "dtype: int64\n"
          ]
        }
      ]
    },
    {
      "cell_type": "markdown",
      "source": [
        "#081~090"
      ],
      "metadata": {
        "id": "5zn8HUl-Se8e"
      }
    },
    {
      "cell_type": "code",
      "source": [
        "data = [100, 200, 300]\n",
        "index = [\"철수\", \"영희\", \"아름\"]\n",
        "s = Series(data=data, index=index)\n",
        "s['순이']=400\n",
        "s"
      ],
      "metadata": {
        "colab": {
          "base_uri": "https://localhost:8080/"
        },
        "id": "lDB7AMtaSgI0",
        "outputId": "ecf1a3e1-a70d-4f23-ad20-8a6abf10fbec"
      },
      "execution_count": 128,
      "outputs": [
        {
          "output_type": "execute_result",
          "data": {
            "text/plain": [
              "철수    100\n",
              "영희    200\n",
              "아름    300\n",
              "순이    400\n",
              "dtype: int64"
            ]
          },
          "metadata": {},
          "execution_count": 128
        }
      ]
    },
    {
      "cell_type": "code",
      "source": [
        "data = [100, 200, 300]\n",
        "index = [\"철수\", \"영희\", \"아름\"]\n",
        "s = Series(data=data, index=index)\n",
        "s.drop('철수')"
      ],
      "metadata": {
        "colab": {
          "base_uri": "https://localhost:8080/"
        },
        "id": "N3mESsKOQt4N",
        "outputId": "2e64a7e8-7e4c-48a2-deb1-719f396f6309"
      },
      "execution_count": 133,
      "outputs": [
        {
          "output_type": "execute_result",
          "data": {
            "text/plain": [
              "영희    200\n",
              "아름    300\n",
              "dtype: int64"
            ]
          },
          "metadata": {},
          "execution_count": 133
        }
      ]
    },
    {
      "cell_type": "code",
      "source": [
        "s"
      ],
      "metadata": {
        "colab": {
          "base_uri": "https://localhost:8080/"
        },
        "id": "-0cbnCtxSze3",
        "outputId": "93863449-e393-4d3c-dd10-f97a3a33d41f"
      },
      "execution_count": 134,
      "outputs": [
        {
          "output_type": "execute_result",
          "data": {
            "text/plain": [
              "철수    100\n",
              "영희    200\n",
              "아름    300\n",
              "dtype: int64"
            ]
          },
          "metadata": {},
          "execution_count": 134
        }
      ]
    },
    {
      "cell_type": "code",
      "source": [
        "data = [100, 200, 300]\n",
        "index = [\"철수\", \"영희\", \"아름\"]\n",
        "s = Series(data=data, index=index)\n",
        "s.drop('철수', inplace=True)\n",
        "s"
      ],
      "metadata": {
        "colab": {
          "base_uri": "https://localhost:8080/"
        },
        "id": "idOvvim5S7y5",
        "outputId": "338bfac9-cf3b-416a-f1ac-195251ab77a7"
      },
      "execution_count": 135,
      "outputs": [
        {
          "output_type": "execute_result",
          "data": {
            "text/plain": [
              "영희    200\n",
              "아름    300\n",
              "dtype: int64"
            ]
          },
          "metadata": {},
          "execution_count": 135
        }
      ]
    },
    {
      "cell_type": "code",
      "source": [
        "#unique\n",
        "data = {\n",
        "    \"삼성전자\": \"전기,전자\",\n",
        "    \"LG전자\": \"전기,전자\",\n",
        "    \"현대차\": \"운수장비\",\n",
        "    \"NAVER\": \"서비스업\",\n",
        "    \"카카오\": \"서비스업\"\n",
        "}\n",
        "s = Series(data)\n",
        "s.unique()"
      ],
      "metadata": {
        "colab": {
          "base_uri": "https://localhost:8080/"
        },
        "id": "izOpEqn6TA8W",
        "outputId": "d3949612-0496-4b88-c2f1-c3046880c777"
      },
      "execution_count": 137,
      "outputs": [
        {
          "output_type": "execute_result",
          "data": {
            "text/plain": [
              "array(['전기,전자', '운수장비', '서비스업'], dtype=object)"
            ]
          },
          "metadata": {},
          "execution_count": 137
        }
      ]
    },
    {
      "cell_type": "code",
      "source": [
        "s = pd.Series(\n",
        "    data = [9000, 9000, 8000, 9000, 10000],\n",
        "    index = ['김과장', '이대리', '박전무', '이대리', '이대리']\n",
        ")\n",
        "s.unique()"
      ],
      "metadata": {
        "colab": {
          "base_uri": "https://localhost:8080/"
        },
        "id": "yKbkAVBtTIRL",
        "outputId": "c604c241-d300-466d-b5e4-91d84844e33d"
      },
      "execution_count": 138,
      "outputs": [
        {
          "output_type": "execute_result",
          "data": {
            "text/plain": [
              "array([ 9000,  8000, 10000])"
            ]
          },
          "metadata": {},
          "execution_count": 138
        }
      ]
    },
    {
      "cell_type": "code",
      "source": [
        "s = pd.Series(\n",
        "    data = [9000, 9000, 8000, 9000, 10000],\n",
        "    index = ['김과장', '이대리', '박전무', '이대리', '이대리']\n",
        ")\n",
        "s.value_counts()"
      ],
      "metadata": {
        "colab": {
          "base_uri": "https://localhost:8080/"
        },
        "id": "cZo0qQXyTRtf",
        "outputId": "5bae0f86-35e8-4e9c-ed5a-edef147bac58"
      },
      "execution_count": 141,
      "outputs": [
        {
          "output_type": "execute_result",
          "data": {
            "text/plain": [
              "9000     3\n",
              "8000     1\n",
              "10000    1\n",
              "dtype: int64"
            ]
          },
          "metadata": {},
          "execution_count": 141
        }
      ]
    },
    {
      "cell_type": "code",
      "source": [
        "data = {\n",
        "    \"삼성전자\": \"전기,전자\",\n",
        "    \"LG전자\": \"전기,전자\",\n",
        "    \"현대차\": \"운수장비\",\n",
        "    \"NAVER\": \"서비스업\",\n",
        "    \"카카오\": \"서비스업\"\n",
        "}\n",
        "s = Series(data)\n",
        "s.value_counts()"
      ],
      "metadata": {
        "colab": {
          "base_uri": "https://localhost:8080/"
        },
        "id": "yfTAimd2Tc_1",
        "outputId": "ba3b77a1-5bc9-4053-d557-e3f1b7d07488"
      },
      "execution_count": 144,
      "outputs": [
        {
          "output_type": "execute_result",
          "data": {
            "text/plain": [
              "전기,전자    2\n",
              "서비스업     2\n",
              "운수장비     1\n",
              "dtype: int64"
            ]
          },
          "metadata": {},
          "execution_count": 144
        }
      ]
    },
    {
      "cell_type": "code",
      "source": [
        "data = {\n",
        "    \"매출액\":300,\n",
        "    \"PER\":np.nan,\n",
        "    \"PBR\":2.0\n",
        "}\n",
        "s = Series(data)\n",
        "s"
      ],
      "metadata": {
        "colab": {
          "base_uri": "https://localhost:8080/"
        },
        "id": "VLf4NV2JTnbT",
        "outputId": "e6131c6c-2d74-4400-edad-110f688e71fe"
      },
      "execution_count": 145,
      "outputs": [
        {
          "output_type": "execute_result",
          "data": {
            "text/plain": [
              "매출액    300.0\n",
              "PER      NaN\n",
              "PBR      2.0\n",
              "dtype: float64"
            ]
          },
          "metadata": {},
          "execution_count": 145
        }
      ]
    },
    {
      "cell_type": "markdown",
      "source": [
        "#091~100"
      ],
      "metadata": {
        "id": "jd5kFBs6T-_P"
      }
    },
    {
      "cell_type": "code",
      "source": [
        "data = [100, 300, 200]\n",
        "index = [\"08/01\", \"08/02\", \"08/03\"]\n",
        "s = Series(data, index)\n",
        "print(s.iloc[ [0, 2, 1]])\n",
        "print(s.loc[ [\"08/01\", \"08/03\", \"08/02\"]])"
      ],
      "metadata": {
        "colab": {
          "base_uri": "https://localhost:8080/"
        },
        "id": "PYuwGKHPT_-O",
        "outputId": "fc3dad5f-c1d8-422e-91da-c4095a0db739"
      },
      "execution_count": 147,
      "outputs": [
        {
          "output_type": "stream",
          "name": "stdout",
          "text": [
            "08/01    100\n",
            "08/03    200\n",
            "08/02    300\n",
            "dtype: int64\n",
            "08/01    100\n",
            "08/03    200\n",
            "08/02    300\n",
            "dtype: int64\n"
          ]
        }
      ]
    },
    {
      "cell_type": "code",
      "source": [
        "data = np.random.randint(10, size=4)\n",
        "s = Series(data)\n",
        "s.sort_values()"
      ],
      "metadata": {
        "colab": {
          "base_uri": "https://localhost:8080/"
        },
        "id": "MeBe70ocT7-S",
        "outputId": "7056cbc1-a249-4201-a84a-df6d72fa6703"
      },
      "execution_count": 149,
      "outputs": [
        {
          "output_type": "execute_result",
          "data": {
            "text/plain": [
              "0    0\n",
              "2    6\n",
              "1    7\n",
              "3    8\n",
              "dtype: int64"
            ]
          },
          "metadata": {},
          "execution_count": 149
        }
      ]
    },
    {
      "cell_type": "code",
      "source": [
        "s.sort_values(ascending=False)"
      ],
      "metadata": {
        "colab": {
          "base_uri": "https://localhost:8080/"
        },
        "id": "_dth0vipqjuA",
        "outputId": "d7860dcc-083a-4c2d-d0f7-146966ed08a8"
      },
      "execution_count": 150,
      "outputs": [
        {
          "output_type": "execute_result",
          "data": {
            "text/plain": [
              "3    8\n",
              "1    7\n",
              "2    6\n",
              "0    0\n",
              "dtype: int64"
            ]
          },
          "metadata": {},
          "execution_count": 150
        }
      ]
    },
    {
      "cell_type": "code",
      "source": [
        "s = Series(np.random.randint(10, size=4), [\"b\", \"c\", \"a\", \"d\"])\n",
        "s.sort_index()"
      ],
      "metadata": {
        "colab": {
          "base_uri": "https://localhost:8080/"
        },
        "id": "vk9-nbb0qtg4",
        "outputId": "b4e340c8-a33d-40e4-c66b-8c424a0a2234"
      },
      "execution_count": 153,
      "outputs": [
        {
          "output_type": "execute_result",
          "data": {
            "text/plain": [
              "a    5\n",
              "b    6\n",
              "c    3\n",
              "d    8\n",
              "dtype: int64"
            ]
          },
          "metadata": {},
          "execution_count": 153
        }
      ]
    },
    {
      "cell_type": "code",
      "source": [
        "data = [100, 300, 200]\n",
        "s = Series(data)\n",
        "s**4"
      ],
      "metadata": {
        "colab": {
          "base_uri": "https://localhost:8080/"
        },
        "id": "PYMjrNr4qw8-",
        "outputId": "29a759cb-197b-4633-d132-25c4595756c4"
      },
      "execution_count": 155,
      "outputs": [
        {
          "output_type": "execute_result",
          "data": {
            "text/plain": [
              "0     100000000\n",
              "1    8100000000\n",
              "2    1600000000\n",
              "dtype: int64"
            ]
          },
          "metadata": {},
          "execution_count": 155
        }
      ]
    },
    {
      "cell_type": "code",
      "source": [
        "np.power(s,4)"
      ],
      "metadata": {
        "colab": {
          "base_uri": "https://localhost:8080/"
        },
        "id": "K0Yxh1cNq8TA",
        "outputId": "3ca03ec9-3b19-4c08-88f2-07e9c895cd23"
      },
      "execution_count": 161,
      "outputs": [
        {
          "output_type": "execute_result",
          "data": {
            "text/plain": [
              "0     100000000\n",
              "1    8100000000\n",
              "2    1600000000\n",
              "dtype: int64"
            ]
          },
          "metadata": {},
          "execution_count": 161
        }
      ]
    },
    {
      "cell_type": "code",
      "source": [
        "data = [100, 300, 200]\n",
        "s0 = Series(data, [\"a\", \"c\", \"b\"])\n",
        "s1 = Series(data, [\"a\", \"b\", \"c\"])\n",
        "print(s0 + s1)"
      ],
      "metadata": {
        "colab": {
          "base_uri": "https://localhost:8080/"
        },
        "id": "r2HG2_ZxrGzi",
        "outputId": "f0ca00ad-1628-4698-c0f8-b722945d1a13"
      },
      "execution_count": 166,
      "outputs": [
        {
          "output_type": "stream",
          "name": "stdout",
          "text": [
            "a    200\n",
            "b    500\n",
            "c    500\n",
            "dtype: int64\n"
          ]
        }
      ]
    },
    {
      "cell_type": "code",
      "source": [
        "s = Series(data=[51500, 51200, 52500], index=[\"5/1\", \"5/2\", \"5/3\"])\n",
        "조건 = s < 52000\n",
        "s[조건]"
      ],
      "metadata": {
        "colab": {
          "base_uri": "https://localhost:8080/"
        },
        "id": "L4tpeHCrrW15",
        "outputId": "fd39f65d-f93c-4ccb-e0af-317fa3ffd58a"
      },
      "execution_count": 168,
      "outputs": [
        {
          "output_type": "execute_result",
          "data": {
            "text/plain": [
              "5/1    51500\n",
              "5/2    51200\n",
              "dtype: int64"
            ]
          },
          "metadata": {},
          "execution_count": 168
        }
      ]
    },
    {
      "cell_type": "code",
      "source": [
        "s[s<52000]"
      ],
      "metadata": {
        "colab": {
          "base_uri": "https://localhost:8080/"
        },
        "id": "AeI_R5cHrop3",
        "outputId": "55facfa7-e2e5-4fb4-90c2-8d059e7f9cba"
      },
      "execution_count": 169,
      "outputs": [
        {
          "output_type": "execute_result",
          "data": {
            "text/plain": [
              "5/1    51500\n",
              "5/2    51200\n",
              "dtype: int64"
            ]
          },
          "metadata": {},
          "execution_count": 169
        }
      ]
    },
    {
      "cell_type": "code",
      "source": [
        "s = Series(data=[51500, 51200, 52500], index=[\"5/1\", \"5/2\", \"5/3\"])\n",
        "s[s.index > '5/1']"
      ],
      "metadata": {
        "colab": {
          "base_uri": "https://localhost:8080/"
        },
        "id": "AMpguSq1rump",
        "outputId": "8a5d2144-619a-4d73-c50b-97d3c6080859"
      },
      "execution_count": 170,
      "outputs": [
        {
          "output_type": "execute_result",
          "data": {
            "text/plain": [
              "5/2    51200\n",
              "5/3    52500\n",
              "dtype: int64"
            ]
          },
          "metadata": {},
          "execution_count": 170
        }
      ]
    },
    {
      "cell_type": "code",
      "source": [
        "s = Series(data=[51500, 51200, 52500], index=[\"5/1\", \"5/2\", \"5/3\"])\n",
        "s[(s>=51400) & (s<=53000)]"
      ],
      "metadata": {
        "colab": {
          "base_uri": "https://localhost:8080/"
        },
        "id": "2QYnd9astHyn",
        "outputId": "53ee6d18-bbad-4aa1-80ef-20a5d37271b9"
      },
      "execution_count": 172,
      "outputs": [
        {
          "output_type": "execute_result",
          "data": {
            "text/plain": [
              "5/1    51500\n",
              "5/3    52500\n",
              "dtype: int64"
            ]
          },
          "metadata": {},
          "execution_count": 172
        }
      ]
    },
    {
      "cell_type": "code",
      "source": [
        "s = Series(data=[51500, 51200, 52500], index=[\"5/1\", \"5/2\", \"5/3\"])\n",
        "s[s<=52000].index.tolist()"
      ],
      "metadata": {
        "colab": {
          "base_uri": "https://localhost:8080/"
        },
        "id": "BkrAgAm4tUb_",
        "outputId": "f2818563-0d3c-4b9a-9907-72d5159827c1"
      },
      "execution_count": 181,
      "outputs": [
        {
          "output_type": "execute_result",
          "data": {
            "text/plain": [
              "['5/1', '5/2']"
            ]
          },
          "metadata": {},
          "execution_count": 181
        }
      ]
    },
    {
      "cell_type": "markdown",
      "source": [
        "#101~110"
      ],
      "metadata": {
        "id": "_RIFwv9OwX7Z"
      }
    },
    {
      "cell_type": "code",
      "source": [
        "data = {\n",
        "    '2020-12-11':73400,\n",
        "    '2020-12-10':72900,\n",
        "    '2020-12-09':73900,\n",
        "    '2020-12-08':71700,\n",
        "    '2020-12-07':72900\n",
        "}\n",
        "s = Series(data)\n",
        "s.sum()"
      ],
      "metadata": {
        "colab": {
          "base_uri": "https://localhost:8080/"
        },
        "id": "OiOCx879wZj5",
        "outputId": "c2e7d49d-c7e1-4135-8fe7-0847db866abd"
      },
      "execution_count": 185,
      "outputs": [
        {
          "output_type": "execute_result",
          "data": {
            "text/plain": [
              "364800"
            ]
          },
          "metadata": {},
          "execution_count": 185
        }
      ]
    },
    {
      "cell_type": "code",
      "source": [
        "data = {\n",
        "    '2020-12-11':73400,\n",
        "    '2020-12-10':72900,\n",
        "    '2020-12-09':73900,\n",
        "    '2020-12-08':71700,\n",
        "    '2020-12-07':72900\n",
        "}\n",
        "s = Series(data)\n",
        "s.mean()"
      ],
      "metadata": {
        "colab": {
          "base_uri": "https://localhost:8080/"
        },
        "id": "-XZOTfDZw66B",
        "outputId": "161a6a60-14e0-4637-85cf-8b23fc1a12aa"
      },
      "execution_count": 186,
      "outputs": [
        {
          "output_type": "execute_result",
          "data": {
            "text/plain": [
              "72960.0"
            ]
          },
          "metadata": {},
          "execution_count": 186
        }
      ]
    },
    {
      "cell_type": "code",
      "source": [
        "data = {\n",
        "    '2020-12-11':1.01,\n",
        "    '2020-12-10':0.99,\n",
        "    '2020-12-09':1.03,\n",
        "    '2020-12-08':1.02,\n",
        "    '2020-12-07':1\n",
        "}\n",
        "s = Series(data)\n",
        "s.product()"
      ],
      "metadata": {
        "colab": {
          "base_uri": "https://localhost:8080/"
        },
        "id": "32Spq6n7w-ih",
        "outputId": "3489cbc9-7b51-47c8-8ad3-bbca739c03d0"
      },
      "execution_count": 187,
      "outputs": [
        {
          "output_type": "execute_result",
          "data": {
            "text/plain": [
              "1.05049494"
            ]
          },
          "metadata": {},
          "execution_count": 187
        }
      ]
    },
    {
      "cell_type": "code",
      "source": [
        "data = {\n",
        "    '2020-12-11':73400,\n",
        "    '2020-12-10':72900,\n",
        "    '2020-12-09':73900,\n",
        "    '2020-12-08':71700,\n",
        "    '2020-12-07':72900\n",
        "}\n",
        "s = Series(data)\n",
        "print(s.max())\n",
        "print(s.min())"
      ],
      "metadata": {
        "colab": {
          "base_uri": "https://localhost:8080/"
        },
        "id": "HoUb6IrexHb7",
        "outputId": "7f0c61fc-bed6-4a3c-e333-0eac25d2d3ea"
      },
      "execution_count": 188,
      "outputs": [
        {
          "output_type": "stream",
          "name": "stdout",
          "text": [
            "73900\n",
            "71700\n"
          ]
        }
      ]
    },
    {
      "cell_type": "code",
      "source": [
        "s.pct_change()"
      ],
      "metadata": {
        "colab": {
          "base_uri": "https://localhost:8080/"
        },
        "id": "GyvOkwtqxNQ4",
        "outputId": "5d54cfc1-1822-4b98-ffe4-7a6f6488cc02"
      },
      "execution_count": 189,
      "outputs": [
        {
          "output_type": "execute_result",
          "data": {
            "text/plain": [
              "2020-12-11         NaN\n",
              "2020-12-10   -0.006812\n",
              "2020-12-09    0.013717\n",
              "2020-12-08   -0.029770\n",
              "2020-12-07    0.016736\n",
              "dtype: float64"
            ]
          },
          "metadata": {},
          "execution_count": 189
        }
      ]
    },
    {
      "cell_type": "code",
      "source": [
        "s.cummax()"
      ],
      "metadata": {
        "colab": {
          "base_uri": "https://localhost:8080/"
        },
        "id": "vow3FObfxTHg",
        "outputId": "da001bae-1bf2-46de-a7b2-ca73e20b071c"
      },
      "execution_count": 191,
      "outputs": [
        {
          "output_type": "execute_result",
          "data": {
            "text/plain": [
              "2020-12-11    73400\n",
              "2020-12-10    73400\n",
              "2020-12-09    73900\n",
              "2020-12-08    73900\n",
              "2020-12-07    73900\n",
              "dtype: int64"
            ]
          },
          "metadata": {},
          "execution_count": 191
        }
      ]
    },
    {
      "cell_type": "code",
      "source": [
        "s.cummin()"
      ],
      "metadata": {
        "colab": {
          "base_uri": "https://localhost:8080/"
        },
        "id": "wPm6VeTCxXkH",
        "outputId": "6cb445ce-d8bc-421a-8b53-779ad0a0f0de"
      },
      "execution_count": 192,
      "outputs": [
        {
          "output_type": "execute_result",
          "data": {
            "text/plain": [
              "2020-12-11    73400\n",
              "2020-12-10    72900\n",
              "2020-12-09    72900\n",
              "2020-12-08    71700\n",
              "2020-12-07    71700\n",
              "dtype: int64"
            ]
          },
          "metadata": {},
          "execution_count": 192
        }
      ]
    },
    {
      "cell_type": "code",
      "source": [
        "s.cumprod()"
      ],
      "metadata": {
        "colab": {
          "base_uri": "https://localhost:8080/"
        },
        "id": "lEkZeCFcxZcA",
        "outputId": "e98252cb-4d33-465d-d67c-55273a8c24bf"
      },
      "execution_count": 193,
      "outputs": [
        {
          "output_type": "execute_result",
          "data": {
            "text/plain": [
              "2020-12-11                  73400\n",
              "2020-12-10             5350860000\n",
              "2020-12-09        395428554000000\n",
              "2020-12-08   -8541260825619103232\n",
              "2020-12-07   -6514723640420366336\n",
              "dtype: int64"
            ]
          },
          "metadata": {},
          "execution_count": 193
        }
      ]
    },
    {
      "cell_type": "code",
      "source": [
        "s.rolling(window=1).mean()"
      ],
      "metadata": {
        "colab": {
          "base_uri": "https://localhost:8080/"
        },
        "id": "qxZoVS0IxcFS",
        "outputId": "2fdaa68e-5426-4f14-a1eb-739130fe5f4d"
      },
      "execution_count": 197,
      "outputs": [
        {
          "output_type": "execute_result",
          "data": {
            "text/plain": [
              "2020-12-11    73400.0\n",
              "2020-12-10    72900.0\n",
              "2020-12-09    73900.0\n",
              "2020-12-08    71700.0\n",
              "2020-12-07    72900.0\n",
              "dtype: float64"
            ]
          },
          "metadata": {},
          "execution_count": 197
        }
      ]
    },
    {
      "cell_type": "code",
      "source": [
        "s.rolling(window=2).mean()"
      ],
      "metadata": {
        "colab": {
          "base_uri": "https://localhost:8080/"
        },
        "id": "ZbMLzVKyxpEA",
        "outputId": "99586493-34ee-4f4e-84a3-291efa7cc2df"
      },
      "execution_count": 198,
      "outputs": [
        {
          "output_type": "execute_result",
          "data": {
            "text/plain": [
              "2020-12-11        NaN\n",
              "2020-12-10    73150.0\n",
              "2020-12-09    73400.0\n",
              "2020-12-08    72800.0\n",
              "2020-12-07    72300.0\n",
              "dtype: float64"
            ]
          },
          "metadata": {},
          "execution_count": 198
        }
      ]
    },
    {
      "cell_type": "code",
      "source": [
        "s.rolling(window=2).sum()/2"
      ],
      "metadata": {
        "colab": {
          "base_uri": "https://localhost:8080/"
        },
        "id": "QcqciP8cxnmn",
        "outputId": "eee46644-cd78-4dad-8d61-68c284a08677"
      },
      "execution_count": 201,
      "outputs": [
        {
          "output_type": "execute_result",
          "data": {
            "text/plain": [
              "2020-12-11        NaN\n",
              "2020-12-10    73150.0\n",
              "2020-12-09    73400.0\n",
              "2020-12-08    72800.0\n",
              "2020-12-07    72300.0\n",
              "dtype: float64"
            ]
          },
          "metadata": {},
          "execution_count": 201
        }
      ]
    },
    {
      "cell_type": "markdown",
      "source": [
        "#111~120"
      ],
      "metadata": {
        "id": "I-vLrLb-x_mZ"
      }
    },
    {
      "cell_type": "code",
      "source": [
        "data = [1, 2, 3, 4, np.nan]\n",
        "s = Series(data=data)\n",
        "s.count()"
      ],
      "metadata": {
        "colab": {
          "base_uri": "https://localhost:8080/"
        },
        "id": "DW_D3Lj4yAhC",
        "outputId": "fd9ef81a-5389-49ed-db06-82304941a21c"
      },
      "execution_count": 208,
      "outputs": [
        {
          "output_type": "execute_result",
          "data": {
            "text/plain": [
              "4"
            ]
          },
          "metadata": {},
          "execution_count": 208
        }
      ]
    },
    {
      "cell_type": "code",
      "source": [
        "s.isna().value_counts()"
      ],
      "metadata": {
        "colab": {
          "base_uri": "https://localhost:8080/"
        },
        "id": "q3faqrZXyVuJ",
        "outputId": "1bc523df-3cd4-428f-e0bd-69dc0a5ba8aa"
      },
      "execution_count": 213,
      "outputs": [
        {
          "output_type": "execute_result",
          "data": {
            "text/plain": [
              "False    4\n",
              "True     1\n",
              "dtype: int64"
            ]
          },
          "metadata": {},
          "execution_count": 213
        }
      ]
    },
    {
      "cell_type": "code",
      "source": [
        "data = [\"100\", \"200\", \"300\"]\n",
        "index = [\"철수\", \"영희\", \"아름\"]\n",
        "s = Series(data, index)\n",
        "s.astype(np.int32)"
      ],
      "metadata": {
        "colab": {
          "base_uri": "https://localhost:8080/"
        },
        "id": "6oITb70rymcQ",
        "outputId": "fcebc560-7396-4916-dd5f-cdb7989108d1"
      },
      "execution_count": 214,
      "outputs": [
        {
          "output_type": "execute_result",
          "data": {
            "text/plain": [
              "철수    100\n",
              "영희    200\n",
              "아름    300\n",
              "dtype: int32"
            ]
          },
          "metadata": {},
          "execution_count": 214
        }
      ]
    },
    {
      "cell_type": "code",
      "source": [
        "data = [\"100,000\", \"200,000\", \"300,000\"]\n",
        "index = [\"철수\", \"영희\", \"아름\"]\n",
        "s = Series(data, index)\n",
        "s.str.replace(',', '').astype(np.int32)"
      ],
      "metadata": {
        "colab": {
          "base_uri": "https://localhost:8080/"
        },
        "id": "RJaBFrwAytjP",
        "outputId": "6dc2a098-70f7-4502-9a70-79bd48912e40"
      },
      "execution_count": 217,
      "outputs": [
        {
          "output_type": "execute_result",
          "data": {
            "text/plain": [
              "철수    100000\n",
              "영희    200000\n",
              "아름    300000\n",
              "dtype: int32"
            ]
          },
          "metadata": {},
          "execution_count": 217
        }
      ]
    },
    {
      "cell_type": "code",
      "source": [
        "s = pd.Series([\"30세\", \"40세\", \"50세\"], index=[\"김대리\", \"이과장\", \"박차장\"])\n",
        "s.str.replace('세','').astype(np.int32)"
      ],
      "metadata": {
        "colab": {
          "base_uri": "https://localhost:8080/"
        },
        "id": "u7bSP7JpzDoY",
        "outputId": "82f9b15c-694d-4065-fda4-fee454670593"
      },
      "execution_count": 224,
      "outputs": [
        {
          "output_type": "execute_result",
          "data": {
            "text/plain": [
              "김대리    30\n",
              "이과장    40\n",
              "박차장    50\n",
              "dtype: int32"
            ]
          },
          "metadata": {},
          "execution_count": 224
        }
      ]
    },
    {
      "cell_type": "code",
      "source": [
        "s = pd.Series([1, 2, 3, 4], index=[\"d\", \"c\", \"a\", \"b\"])\n",
        "s.reindex(['a','b', 'c', 'd'])"
      ],
      "metadata": {
        "colab": {
          "base_uri": "https://localhost:8080/"
        },
        "id": "J5UL2oimzeQn",
        "outputId": "3547b9d4-5160-40de-c4ba-1f57a3e2f0d8"
      },
      "execution_count": 227,
      "outputs": [
        {
          "output_type": "execute_result",
          "data": {
            "text/plain": [
              "a    3\n",
              "b    4\n",
              "c    2\n",
              "d    1\n",
              "dtype: int64"
            ]
          },
          "metadata": {},
          "execution_count": 227
        }
      ]
    },
    {
      "cell_type": "code",
      "source": [
        "s = pd.Series([1, 2, 3, 4], index=[\"d\", \"c\", \"a\", \"b\"])\n",
        "s.reindex(s.index.sort_values())"
      ],
      "metadata": {
        "colab": {
          "base_uri": "https://localhost:8080/"
        },
        "id": "Qe7sAJjXzt6n",
        "outputId": "a9a40347-618a-4fe9-b8ef-c8b3a527f876"
      },
      "execution_count": 230,
      "outputs": [
        {
          "output_type": "execute_result",
          "data": {
            "text/plain": [
              "a    3\n",
              "b    4\n",
              "c    2\n",
              "d    1\n",
              "dtype: int64"
            ]
          },
          "metadata": {},
          "execution_count": 230
        }
      ]
    },
    {
      "cell_type": "code",
      "source": [
        "s = pd.Series([1, 2, 3])\n",
        "s.tolist()"
      ],
      "metadata": {
        "colab": {
          "base_uri": "https://localhost:8080/"
        },
        "id": "jQH9WAJJzp-h",
        "outputId": "961467a5-5016-465d-a180-066016e23dc7"
      },
      "execution_count": 231,
      "outputs": [
        {
          "output_type": "execute_result",
          "data": {
            "text/plain": [
              "[1, 2, 3]"
            ]
          },
          "metadata": {},
          "execution_count": 231
        }
      ]
    },
    {
      "cell_type": "code",
      "source": [
        "list(s)"
      ],
      "metadata": {
        "colab": {
          "base_uri": "https://localhost:8080/"
        },
        "id": "ZeOEx4X0z7ov",
        "outputId": "e0d025ce-3eff-46ae-9066-fd964e1dfdde"
      },
      "execution_count": 232,
      "outputs": [
        {
          "output_type": "execute_result",
          "data": {
            "text/plain": [
              "[1, 2, 3]"
            ]
          },
          "metadata": {},
          "execution_count": 232
        }
      ]
    },
    {
      "cell_type": "code",
      "source": [
        "s = pd.Series([1, 2, 3])\n",
        "s.to_dict()"
      ],
      "metadata": {
        "colab": {
          "base_uri": "https://localhost:8080/"
        },
        "id": "7uDjJYPjz9if",
        "outputId": "afde772a-098f-45e6-fa5b-ceca753fb533"
      },
      "execution_count": 234,
      "outputs": [
        {
          "output_type": "execute_result",
          "data": {
            "text/plain": [
              "{0: 1, 1: 2, 2: 3}"
            ]
          },
          "metadata": {},
          "execution_count": 234
        }
      ]
    },
    {
      "cell_type": "code",
      "source": [
        "dict(s)"
      ],
      "metadata": {
        "colab": {
          "base_uri": "https://localhost:8080/"
        },
        "id": "KSvLnKhD0CR_",
        "outputId": "c470aa45-3be7-4777-c936-9109575ade16"
      },
      "execution_count": 235,
      "outputs": [
        {
          "output_type": "execute_result",
          "data": {
            "text/plain": [
              "{0: 1, 1: 2, 2: 3}"
            ]
          },
          "metadata": {},
          "execution_count": 235
        }
      ]
    },
    {
      "cell_type": "code",
      "source": [
        "s = pd.Series([1, 2, 3, np.nan])\n",
        "s.dropna()"
      ],
      "metadata": {
        "colab": {
          "base_uri": "https://localhost:8080/"
        },
        "id": "HETAmpdQ0BB3",
        "outputId": "cdebbbf8-09e6-40f5-c14d-1fcbf6f613e1"
      },
      "execution_count": 237,
      "outputs": [
        {
          "output_type": "execute_result",
          "data": {
            "text/plain": [
              "0    1.0\n",
              "1    2.0\n",
              "2    3.0\n",
              "dtype: float64"
            ]
          },
          "metadata": {},
          "execution_count": 237
        }
      ]
    },
    {
      "cell_type": "code",
      "source": [
        "s = pd.Series([\"1,234\", \"5,678\", \"9,876\"])\n",
        "def a(x):\n",
        "  return x.replace(\",\", \"\")\n",
        "s.map(a)"
      ],
      "metadata": {
        "colab": {
          "base_uri": "https://localhost:8080/"
        },
        "id": "_iuHwoB10KNl",
        "outputId": "429d523b-e097-464c-dccf-f729c60d815f"
      },
      "execution_count": 251,
      "outputs": [
        {
          "output_type": "execute_result",
          "data": {
            "text/plain": [
              "0    1234\n",
              "1    5678\n",
              "2    9876\n",
              "dtype: object"
            ]
          },
          "metadata": {},
          "execution_count": 251
        }
      ]
    },
    {
      "cell_type": "code",
      "source": [
        "s = pd.Series([\"1,234\", \"5,678\", \"9,876\"])\n",
        "s.map(lambda x:x.replace(',',''))"
      ],
      "metadata": {
        "colab": {
          "base_uri": "https://localhost:8080/"
        },
        "id": "SJ0YKWUr1_zZ",
        "outputId": "67bdddc1-61da-49f6-f742-093fc10641cf"
      },
      "execution_count": 252,
      "outputs": [
        {
          "output_type": "execute_result",
          "data": {
            "text/plain": [
              "0    1234\n",
              "1    5678\n",
              "2    9876\n",
              "dtype: object"
            ]
          },
          "metadata": {},
          "execution_count": 252
        }
      ]
    },
    {
      "cell_type": "code",
      "source": [
        "s = pd.Series([10, 100, 1000])\n",
        "s.apply(np.log10)"
      ],
      "metadata": {
        "colab": {
          "base_uri": "https://localhost:8080/"
        },
        "id": "kI4KMpZ02ROO",
        "outputId": "528e8c39-2b77-4634-943b-81359203a6ca"
      },
      "execution_count": 253,
      "outputs": [
        {
          "output_type": "execute_result",
          "data": {
            "text/plain": [
              "0    1.0\n",
              "1    2.0\n",
              "2    3.0\n",
              "dtype: float64"
            ]
          },
          "metadata": {},
          "execution_count": 253
        }
      ]
    },
    {
      "cell_type": "markdown",
      "source": [
        "#121~130"
      ],
      "metadata": {
        "id": "RFyi3hR5340y"
      }
    },
    {
      "cell_type": "code",
      "source": [
        "data = [1, 2, 3, 4, np.nan]\n",
        "s = Series(data=data)\n",
        "s.dropna()"
      ],
      "metadata": {
        "colab": {
          "base_uri": "https://localhost:8080/"
        },
        "id": "hq_Bg3ts350h",
        "outputId": "bb5c8f02-4615-47bc-836a-29bc986663d0"
      },
      "execution_count": 254,
      "outputs": [
        {
          "output_type": "execute_result",
          "data": {
            "text/plain": [
              "0    1.0\n",
              "1    2.0\n",
              "2    3.0\n",
              "3    4.0\n",
              "dtype: float64"
            ]
          },
          "metadata": {},
          "execution_count": 254
        }
      ]
    },
    {
      "cell_type": "code",
      "source": [
        "data = range(1, 11)\n",
        "s = Series(data=data)\n",
        "s.nlargest(3)"
      ],
      "metadata": {
        "colab": {
          "base_uri": "https://localhost:8080/"
        },
        "id": "duF2lrVC38gp",
        "outputId": "f142bd0a-7582-4d1c-cdf5-faf7c5d3a6e5"
      },
      "execution_count": 255,
      "outputs": [
        {
          "output_type": "execute_result",
          "data": {
            "text/plain": [
              "9    10\n",
              "8     9\n",
              "7     8\n",
              "dtype: int64"
            ]
          },
          "metadata": {},
          "execution_count": 255
        }
      ]
    },
    {
      "cell_type": "code",
      "source": [
        "data = range(1, 11)\n",
        "s = Series(data=data)\n",
        "s.nsmallest(3)"
      ],
      "metadata": {
        "colab": {
          "base_uri": "https://localhost:8080/"
        },
        "id": "uyYmJDeI4CgC",
        "outputId": "17648594-9dd7-4e7c-c63f-81952b7c854f"
      },
      "execution_count": 256,
      "outputs": [
        {
          "output_type": "execute_result",
          "data": {
            "text/plain": [
              "0    1\n",
              "1    2\n",
              "2    3\n",
              "dtype: int64"
            ]
          },
          "metadata": {},
          "execution_count": 256
        }
      ]
    },
    {
      "cell_type": "code",
      "source": [
        "from datetime import datetime\n",
        "s = pd.Series([datetime(2020,1,1), datetime(2021,1,1), datetime(2022,1,1)])\n",
        "s.dt.year"
      ],
      "metadata": {
        "colab": {
          "base_uri": "https://localhost:8080/"
        },
        "id": "zZmoDlxY4G2a",
        "outputId": "d7f4f3f1-79ad-4b2c-d9ce-40b24b1b07cd"
      },
      "execution_count": 259,
      "outputs": [
        {
          "output_type": "execute_result",
          "data": {
            "text/plain": [
              "0    2020\n",
              "1    2021\n",
              "2    2022\n",
              "dtype: int64"
            ]
          },
          "metadata": {},
          "execution_count": 259
        }
      ]
    },
    {
      "cell_type": "code",
      "source": [
        "index = [datetime(2020,1,1), datetime(2021,1,1), datetime(2022,1,1)]\n",
        "data = [100, 200, 300]\n",
        "s = pd.Series(data=data, index=index)\n",
        "s.index.year.tolist()"
      ],
      "metadata": {
        "colab": {
          "base_uri": "https://localhost:8080/"
        },
        "id": "2a4J07SS4bI0",
        "outputId": "15c6e459-04e5-4603-d8f7-309ca4bc2cdd"
      },
      "execution_count": 263,
      "outputs": [
        {
          "output_type": "execute_result",
          "data": {
            "text/plain": [
              "[2020, 2021, 2022]"
            ]
          },
          "metadata": {},
          "execution_count": 263
        }
      ]
    },
    {
      "cell_type": "code",
      "source": [
        "s = pd.Series([datetime(2022,1,1), datetime(2022,1,2), datetime(2022,1,3)])\n",
        "s.dt.day"
      ],
      "metadata": {
        "colab": {
          "base_uri": "https://localhost:8080/"
        },
        "id": "Zv8BSqGd4liE",
        "outputId": "8049800e-04ef-4383-e6c9-eab549e3ad30"
      },
      "execution_count": 264,
      "outputs": [
        {
          "output_type": "execute_result",
          "data": {
            "text/plain": [
              "0    1\n",
              "1    2\n",
              "2    3\n",
              "dtype: int64"
            ]
          },
          "metadata": {},
          "execution_count": 264
        }
      ]
    },
    {
      "cell_type": "code",
      "source": [
        "index = [datetime(2020,1,1), datetime(2021,1,1), datetime(2022,1,1)]\n",
        "data = [100, 200, 300]\n",
        "s = pd.Series(data=data, index=index)\n",
        "s.index.strftime(\"%Y-%m-%d 00:00:00\")"
      ],
      "metadata": {
        "colab": {
          "base_uri": "https://localhost:8080/"
        },
        "id": "j7bGijUK4oz0",
        "outputId": "20e5fd8a-e55c-419f-eb90-8c046c98c459"
      },
      "execution_count": 267,
      "outputs": [
        {
          "output_type": "execute_result",
          "data": {
            "text/plain": [
              "Index(['2020-01-01 00:00:00', '2021-01-01 00:00:00', '2022-01-01 00:00:00'], dtype='object')"
            ]
          },
          "metadata": {},
          "execution_count": 267
        }
      ]
    },
    {
      "cell_type": "code",
      "source": [
        "s = pd.Series([\"000020\", \"000040\", \"005930\"])\n",
        "s.str.cat(sep=';')"
      ],
      "metadata": {
        "colab": {
          "base_uri": "https://localhost:8080/",
          "height": 35
        },
        "id": "Ysn_vkoS46xH",
        "outputId": "f2e404a1-cba1-4bad-9a46-9372c5ff1621"
      },
      "execution_count": 269,
      "outputs": [
        {
          "output_type": "execute_result",
          "data": {
            "text/plain": [
              "'000020;000040;005930'"
            ],
            "application/vnd.google.colaboratory.intrinsic+json": {
              "type": "string"
            }
          },
          "metadata": {},
          "execution_count": 269
        }
      ]
    },
    {
      "cell_type": "code",
      "source": [
        "s = pd.Series([\"000020\", \"000040\", \"005930\"])\n",
        "'A'+s"
      ],
      "metadata": {
        "colab": {
          "base_uri": "https://localhost:8080/"
        },
        "id": "-jzL757H5DVq",
        "outputId": "8ab72545-755e-45db-daa3-801e6a6e0f8a"
      },
      "execution_count": 270,
      "outputs": [
        {
          "output_type": "execute_result",
          "data": {
            "text/plain": [
              "0    A000020\n",
              "1    A000040\n",
              "2    A005930\n",
              "dtype: object"
            ]
          },
          "metadata": {},
          "execution_count": 270
        }
      ]
    },
    {
      "cell_type": "markdown",
      "source": [
        "#101~110"
      ],
      "metadata": {
        "id": "u31BSez55grx"
      }
    },
    {
      "cell_type": "code",
      "source": [],
      "metadata": {
        "id": "khg_5Kzy5h-n"
      },
      "execution_count": null,
      "outputs": []
    },
    {
      "cell_type": "code",
      "source": [],
      "metadata": {
        "id": "3oSMRh6L19gJ"
      },
      "execution_count": null,
      "outputs": []
    },
    {
      "cell_type": "code",
      "source": [],
      "metadata": {
        "id": "OMQQ48qm1W3U"
      },
      "execution_count": null,
      "outputs": []
    },
    {
      "cell_type": "code",
      "source": [],
      "metadata": {
        "id": "HyBMYBDn09Ix"
      },
      "execution_count": null,
      "outputs": []
    }
  ]
}