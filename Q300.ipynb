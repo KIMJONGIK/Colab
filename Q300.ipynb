{
  "nbformat": 4,
  "nbformat_minor": 0,
  "metadata": {
    "colab": {
      "provenance": [],
      "authorship_tag": "ABX9TyNLh9b1MMhFYX8eJLfWiBMh",
      "include_colab_link": true
    },
    "kernelspec": {
      "name": "python3",
      "display_name": "Python 3"
    },
    "language_info": {
      "name": "python"
    }
  },
  "cells": [
    {
      "cell_type": "markdown",
      "metadata": {
        "id": "view-in-github",
        "colab_type": "text"
      },
      "source": [
        "<a href=\"https://colab.research.google.com/github/KIMJONGIK/Colab/blob/main/Q300.ipynb\" target=\"_parent\"><img src=\"https://colab.research.google.com/assets/colab-badge.svg\" alt=\"Open In Colab\"/></a>"
      ]
    },
    {
      "cell_type": "code",
      "execution_count": null,
      "metadata": {
        "id": "ImLwQ4ui8TEB"
      },
      "outputs": [],
      "source": [
        "import numpy as np"
      ]
    },
    {
      "cell_type": "markdown",
      "source": [
        "#001 ~ 010"
      ],
      "metadata": {
        "id": "RIGL4bwOp5A9"
      }
    },
    {
      "cell_type": "code",
      "source": [
        "data = [1,2,3]\n",
        "data = np.array(data)\n",
        "data"
      ],
      "metadata": {
        "colab": {
          "base_uri": "https://localhost:8080/"
        },
        "id": "Ud1Oq-Ln8VmM",
        "outputId": "7d55b98f-577a-4fbd-be6f-1e5cb2ab802b"
      },
      "execution_count": null,
      "outputs": [
        {
          "output_type": "execute_result",
          "data": {
            "text/plain": [
              "array([1, 2, 3])"
            ]
          },
          "metadata": {},
          "execution_count": 7
        }
      ]
    },
    {
      "cell_type": "code",
      "source": [
        "np.arange(100)"
      ],
      "metadata": {
        "colab": {
          "base_uri": "https://localhost:8080/"
        },
        "id": "rpC4WxcZ8em_",
        "outputId": "92ec361f-42ed-4fc6-ace9-e3e67ad7fc20"
      },
      "execution_count": null,
      "outputs": [
        {
          "output_type": "execute_result",
          "data": {
            "text/plain": [
              "array([ 0,  1,  2,  3,  4,  5,  6,  7,  8,  9, 10, 11, 12, 13, 14, 15, 16,\n",
              "       17, 18, 19, 20, 21, 22, 23, 24, 25, 26, 27, 28, 29, 30, 31, 32, 33,\n",
              "       34, 35, 36, 37, 38, 39, 40, 41, 42, 43, 44, 45, 46, 47, 48, 49, 50,\n",
              "       51, 52, 53, 54, 55, 56, 57, 58, 59, 60, 61, 62, 63, 64, 65, 66, 67,\n",
              "       68, 69, 70, 71, 72, 73, 74, 75, 76, 77, 78, 79, 80, 81, 82, 83, 84,\n",
              "       85, 86, 87, 88, 89, 90, 91, 92, 93, 94, 95, 96, 97, 98, 99])"
            ]
          },
          "metadata": {},
          "execution_count": 5
        }
      ]
    },
    {
      "cell_type": "code",
      "source": [
        "arr = np.arange(3,30,3)\n",
        "arr"
      ],
      "metadata": {
        "colab": {
          "base_uri": "https://localhost:8080/"
        },
        "id": "sLeoiIvk8tRW",
        "outputId": "eb2d0f13-d370-4594-b053-3e67872e7993"
      },
      "execution_count": null,
      "outputs": [
        {
          "output_type": "execute_result",
          "data": {
            "text/plain": [
              "array([ 3,  6,  9, 12, 15, 18, 21, 24, 27])"
            ]
          },
          "metadata": {},
          "execution_count": 11
        }
      ]
    },
    {
      "cell_type": "code",
      "source": [
        "np.arange(0,1000, 2)"
      ],
      "metadata": {
        "colab": {
          "base_uri": "https://localhost:8080/"
        },
        "id": "fZWEAkNq8qFK",
        "outputId": "84a5cd79-d866-4142-f338-1e219c4f1834"
      },
      "execution_count": null,
      "outputs": [
        {
          "output_type": "execute_result",
          "data": {
            "text/plain": [
              "array([  0,   2,   4,   6,   8,  10,  12,  14,  16,  18,  20,  22,  24,\n",
              "        26,  28,  30,  32,  34,  36,  38,  40,  42,  44,  46,  48,  50,\n",
              "        52,  54,  56,  58,  60,  62,  64,  66,  68,  70,  72,  74,  76,\n",
              "        78,  80,  82,  84,  86,  88,  90,  92,  94,  96,  98, 100, 102,\n",
              "       104, 106, 108, 110, 112, 114, 116, 118, 120, 122, 124, 126, 128,\n",
              "       130, 132, 134, 136, 138, 140, 142, 144, 146, 148, 150, 152, 154,\n",
              "       156, 158, 160, 162, 164, 166, 168, 170, 172, 174, 176, 178, 180,\n",
              "       182, 184, 186, 188, 190, 192, 194, 196, 198, 200, 202, 204, 206,\n",
              "       208, 210, 212, 214, 216, 218, 220, 222, 224, 226, 228, 230, 232,\n",
              "       234, 236, 238, 240, 242, 244, 246, 248, 250, 252, 254, 256, 258,\n",
              "       260, 262, 264, 266, 268, 270, 272, 274, 276, 278, 280, 282, 284,\n",
              "       286, 288, 290, 292, 294, 296, 298, 300, 302, 304, 306, 308, 310,\n",
              "       312, 314, 316, 318, 320, 322, 324, 326, 328, 330, 332, 334, 336,\n",
              "       338, 340, 342, 344, 346, 348, 350, 352, 354, 356, 358, 360, 362,\n",
              "       364, 366, 368, 370, 372, 374, 376, 378, 380, 382, 384, 386, 388,\n",
              "       390, 392, 394, 396, 398, 400, 402, 404, 406, 408, 410, 412, 414,\n",
              "       416, 418, 420, 422, 424, 426, 428, 430, 432, 434, 436, 438, 440,\n",
              "       442, 444, 446, 448, 450, 452, 454, 456, 458, 460, 462, 464, 466,\n",
              "       468, 470, 472, 474, 476, 478, 480, 482, 484, 486, 488, 490, 492,\n",
              "       494, 496, 498, 500, 502, 504, 506, 508, 510, 512, 514, 516, 518,\n",
              "       520, 522, 524, 526, 528, 530, 532, 534, 536, 538, 540, 542, 544,\n",
              "       546, 548, 550, 552, 554, 556, 558, 560, 562, 564, 566, 568, 570,\n",
              "       572, 574, 576, 578, 580, 582, 584, 586, 588, 590, 592, 594, 596,\n",
              "       598, 600, 602, 604, 606, 608, 610, 612, 614, 616, 618, 620, 622,\n",
              "       624, 626, 628, 630, 632, 634, 636, 638, 640, 642, 644, 646, 648,\n",
              "       650, 652, 654, 656, 658, 660, 662, 664, 666, 668, 670, 672, 674,\n",
              "       676, 678, 680, 682, 684, 686, 688, 690, 692, 694, 696, 698, 700,\n",
              "       702, 704, 706, 708, 710, 712, 714, 716, 718, 720, 722, 724, 726,\n",
              "       728, 730, 732, 734, 736, 738, 740, 742, 744, 746, 748, 750, 752,\n",
              "       754, 756, 758, 760, 762, 764, 766, 768, 770, 772, 774, 776, 778,\n",
              "       780, 782, 784, 786, 788, 790, 792, 794, 796, 798, 800, 802, 804,\n",
              "       806, 808, 810, 812, 814, 816, 818, 820, 822, 824, 826, 828, 830,\n",
              "       832, 834, 836, 838, 840, 842, 844, 846, 848, 850, 852, 854, 856,\n",
              "       858, 860, 862, 864, 866, 868, 870, 872, 874, 876, 878, 880, 882,\n",
              "       884, 886, 888, 890, 892, 894, 896, 898, 900, 902, 904, 906, 908,\n",
              "       910, 912, 914, 916, 918, 920, 922, 924, 926, 928, 930, 932, 934,\n",
              "       936, 938, 940, 942, 944, 946, 948, 950, 952, 954, 956, 958, 960,\n",
              "       962, 964, 966, 968, 970, 972, 974, 976, 978, 980, 982, 984, 986,\n",
              "       988, 990, 992, 994, 996, 998])"
            ]
          },
          "metadata": {},
          "execution_count": 14
        }
      ]
    },
    {
      "cell_type": "code",
      "source": [
        "np.arange(0, 1, 0.1)"
      ],
      "metadata": {
        "colab": {
          "base_uri": "https://localhost:8080/"
        },
        "id": "KBsmvGv39P0G",
        "outputId": "4767171a-f55f-4947-f524-2076205ab130"
      },
      "execution_count": null,
      "outputs": [
        {
          "output_type": "execute_result",
          "data": {
            "text/plain": [
              "array([0. , 0.1, 0.2, 0.3, 0.4, 0.5, 0.6, 0.7, 0.8, 0.9])"
            ]
          },
          "metadata": {},
          "execution_count": 15
        }
      ]
    },
    {
      "cell_type": "code",
      "source": [
        "data = [0, 1, 2, 3, 4, 5]\n",
        "data = np.array(data)\n",
        "data.reshape(2,-1)"
      ],
      "metadata": {
        "colab": {
          "base_uri": "https://localhost:8080/"
        },
        "id": "iM1l12zl9Knx",
        "outputId": "50ca20ff-b25d-4508-93ad-a4127c48233e"
      },
      "execution_count": null,
      "outputs": [
        {
          "output_type": "execute_result",
          "data": {
            "text/plain": [
              "array([[0, 1, 2],\n",
              "       [3, 4, 5]])"
            ]
          },
          "metadata": {},
          "execution_count": 17
        }
      ]
    },
    {
      "cell_type": "code",
      "source": [
        "data = [0, 1, 2, 3, 4, 5]\n",
        "data = np.array(data)\n",
        "data.reshape(-1,3)"
      ],
      "metadata": {
        "colab": {
          "base_uri": "https://localhost:8080/"
        },
        "id": "UD6k5_kv9h26",
        "outputId": "a9ad39d4-bf48-459f-9c22-b5706af64a0e"
      },
      "execution_count": null,
      "outputs": [
        {
          "output_type": "execute_result",
          "data": {
            "text/plain": [
              "array([[0, 1, 2],\n",
              "       [3, 4, 5]])"
            ]
          },
          "metadata": {},
          "execution_count": 18
        }
      ]
    },
    {
      "cell_type": "code",
      "source": [
        "arr = np.array([\n",
        "    [0, 1, 2],\n",
        "    [3, 4, 5]\n",
        "])\n",
        "arr.reshape(-1)"
      ],
      "metadata": {
        "colab": {
          "base_uri": "https://localhost:8080/"
        },
        "id": "D6N6Ok-G9um2",
        "outputId": "b6f9189d-8a4e-453d-948e-5c0392f7053a"
      },
      "execution_count": null,
      "outputs": [
        {
          "output_type": "execute_result",
          "data": {
            "text/plain": [
              "array([0, 1, 2, 3, 4, 5])"
            ]
          },
          "metadata": {},
          "execution_count": 19
        }
      ]
    },
    {
      "cell_type": "code",
      "source": [
        "arr = np.array([\n",
        "    [0, 1, 2],\n",
        "    [3, 4, 5]\n",
        "])\n",
        "arr.reshape(6)"
      ],
      "metadata": {
        "colab": {
          "base_uri": "https://localhost:8080/"
        },
        "id": "ak2tyPmS93RL",
        "outputId": "536d58df-665d-4a63-f2f5-94f8c3415d67"
      },
      "execution_count": null,
      "outputs": [
        {
          "output_type": "execute_result",
          "data": {
            "text/plain": [
              "array([0, 1, 2, 3, 4, 5])"
            ]
          },
          "metadata": {},
          "execution_count": 21
        }
      ]
    },
    {
      "cell_type": "code",
      "source": [
        "arr = np.array([\n",
        "    [0, 1, 2],\n",
        "    [3, 4, 5]\n",
        "])\n",
        "arr.flatten()"
      ],
      "metadata": {
        "colab": {
          "base_uri": "https://localhost:8080/"
        },
        "id": "4x_pGzMr9_Dt",
        "outputId": "ccf37a02-90c0-4a11-f27e-7a44359629dc"
      },
      "execution_count": null,
      "outputs": [
        {
          "output_type": "execute_result",
          "data": {
            "text/plain": [
              "array([0, 1, 2, 3, 4, 5])"
            ]
          },
          "metadata": {},
          "execution_count": 22
        }
      ]
    },
    {
      "cell_type": "code",
      "source": [
        "arr = np.arange(3)\n",
        "arr"
      ],
      "metadata": {
        "colab": {
          "base_uri": "https://localhost:8080/"
        },
        "id": "Iv_RFwp7-dP7",
        "outputId": "b3f755d1-8117-4942-cb8a-dfc2fa708801"
      },
      "execution_count": null,
      "outputs": [
        {
          "output_type": "execute_result",
          "data": {
            "text/plain": [
              "array([0, 1, 2])"
            ]
          },
          "metadata": {},
          "execution_count": 24
        }
      ]
    },
    {
      "cell_type": "code",
      "source": [
        "arr.reshape(3,1)"
      ],
      "metadata": {
        "colab": {
          "base_uri": "https://localhost:8080/"
        },
        "id": "wcn6v9L9-uBD",
        "outputId": "570d7d26-dce5-4942-f6f4-b7a72b0ce03b"
      },
      "execution_count": null,
      "outputs": [
        {
          "output_type": "execute_result",
          "data": {
            "text/plain": [
              "array([[0],\n",
              "       [1],\n",
              "       [2]])"
            ]
          },
          "metadata": {},
          "execution_count": 25
        }
      ]
    },
    {
      "cell_type": "markdown",
      "source": [
        "#011~020"
      ],
      "metadata": {
        "id": "eZKiWKyAq_qd"
      }
    },
    {
      "cell_type": "code",
      "source": [
        "np.arange(6).reshape(2,-1)"
      ],
      "metadata": {
        "colab": {
          "base_uri": "https://localhost:8080/"
        },
        "id": "Nn403tZI-sZr",
        "outputId": "19742fe6-b505-4450-f18d-05ddb9ae216a"
      },
      "execution_count": null,
      "outputs": [
        {
          "output_type": "execute_result",
          "data": {
            "text/plain": [
              "array([[0, 1, 2],\n",
              "       [3, 4, 5]])"
            ]
          },
          "metadata": {},
          "execution_count": 26
        }
      ]
    },
    {
      "cell_type": "code",
      "source": [
        "np.ones(20, dtype=int)"
      ],
      "metadata": {
        "colab": {
          "base_uri": "https://localhost:8080/"
        },
        "id": "-0XDxVs6-6tL",
        "outputId": "6ba118c1-f057-4f10-c2a3-0b3fea13bc17"
      },
      "execution_count": null,
      "outputs": [
        {
          "output_type": "execute_result",
          "data": {
            "text/plain": [
              "array([1, 1, 1, 1, 1, 1, 1, 1, 1, 1, 1, 1, 1, 1, 1, 1, 1, 1, 1, 1])"
            ]
          },
          "metadata": {},
          "execution_count": 27
        }
      ]
    },
    {
      "cell_type": "code",
      "source": [
        "np.ones(20, dtype=int).reshape(4,-1)"
      ],
      "metadata": {
        "colab": {
          "base_uri": "https://localhost:8080/"
        },
        "id": "Eohsx2i7_HEb",
        "outputId": "5e1bf2ac-ac58-4739-a554-f67c8f177d3e"
      },
      "execution_count": null,
      "outputs": [
        {
          "output_type": "execute_result",
          "data": {
            "text/plain": [
              "array([[1, 1, 1, 1, 1],\n",
              "       [1, 1, 1, 1, 1],\n",
              "       [1, 1, 1, 1, 1],\n",
              "       [1, 1, 1, 1, 1]])"
            ]
          },
          "metadata": {},
          "execution_count": 28
        }
      ]
    },
    {
      "cell_type": "code",
      "source": [
        "np.ones(100, dtype=int).reshape(10, -1)*255"
      ],
      "metadata": {
        "colab": {
          "base_uri": "https://localhost:8080/"
        },
        "id": "1r3dK-GI_VG-",
        "outputId": "6b8605e8-02ca-4aaa-fa60-fd4a5f3a8024"
      },
      "execution_count": null,
      "outputs": [
        {
          "output_type": "execute_result",
          "data": {
            "text/plain": [
              "array([[255, 255, 255, 255, 255, 255, 255, 255, 255, 255],\n",
              "       [255, 255, 255, 255, 255, 255, 255, 255, 255, 255],\n",
              "       [255, 255, 255, 255, 255, 255, 255, 255, 255, 255],\n",
              "       [255, 255, 255, 255, 255, 255, 255, 255, 255, 255],\n",
              "       [255, 255, 255, 255, 255, 255, 255, 255, 255, 255],\n",
              "       [255, 255, 255, 255, 255, 255, 255, 255, 255, 255],\n",
              "       [255, 255, 255, 255, 255, 255, 255, 255, 255, 255],\n",
              "       [255, 255, 255, 255, 255, 255, 255, 255, 255, 255],\n",
              "       [255, 255, 255, 255, 255, 255, 255, 255, 255, 255],\n",
              "       [255, 255, 255, 255, 255, 255, 255, 255, 255, 255]])"
            ]
          },
          "metadata": {},
          "execution_count": 29
        }
      ]
    },
    {
      "cell_type": "code",
      "source": [
        "np.zeros((3,4))"
      ],
      "metadata": {
        "colab": {
          "base_uri": "https://localhost:8080/"
        },
        "id": "KS-LfT9D_dDY",
        "outputId": "cac50f7f-443b-4ae9-dd34-9b9c85a1b64e"
      },
      "execution_count": null,
      "outputs": [
        {
          "output_type": "execute_result",
          "data": {
            "text/plain": [
              "array([[0., 0., 0., 0.],\n",
              "       [0., 0., 0., 0.],\n",
              "       [0., 0., 0., 0.]])"
            ]
          },
          "metadata": {},
          "execution_count": 32
        }
      ]
    },
    {
      "cell_type": "code",
      "source": [
        "np.arange(1,4,1, dtype=np.int32)"
      ],
      "metadata": {
        "colab": {
          "base_uri": "https://localhost:8080/"
        },
        "id": "BLp2yydq_oyy",
        "outputId": "c28bbff8-c05b-4410-926e-1eda6bbfdb5f"
      },
      "execution_count": null,
      "outputs": [
        {
          "output_type": "execute_result",
          "data": {
            "text/plain": [
              "array([1, 2, 3], dtype=int32)"
            ]
          },
          "metadata": {},
          "execution_count": 33
        }
      ]
    },
    {
      "cell_type": "code",
      "source": [
        "data = [1,2,3]\n",
        "arr = np.ndarray(data, dtype=np.int32)\n",
        "arr"
      ],
      "metadata": {
        "colab": {
          "base_uri": "https://localhost:8080/"
        },
        "id": "IfXXvlFw_3OO",
        "outputId": "e33e2b8c-9294-44cf-818a-5b13237c104a"
      },
      "execution_count": null,
      "outputs": [
        {
          "output_type": "execute_result",
          "data": {
            "text/plain": [
              "array([[[42704416,        0,        0],\n",
              "        [       0,        0,        0]]], dtype=int32)"
            ]
          },
          "metadata": {},
          "execution_count": 37
        }
      ]
    },
    {
      "cell_type": "code",
      "source": [
        "arr = np.array(['1', '2', '3'])\n",
        "print(arr.dtype)"
      ],
      "metadata": {
        "colab": {
          "base_uri": "https://localhost:8080/"
        },
        "id": "3dDcaR6xAHSS",
        "outputId": "47e96463-cb26-49e8-e6fd-333ead3893a5"
      },
      "execution_count": null,
      "outputs": [
        {
          "output_type": "stream",
          "name": "stdout",
          "text": [
            "<U1\n"
          ]
        }
      ]
    },
    {
      "cell_type": "code",
      "source": [
        "arr = np.array([1,2,3])\n",
        "arr.astype(np.int16)"
      ],
      "metadata": {
        "colab": {
          "base_uri": "https://localhost:8080/"
        },
        "id": "UYlBf8NE_8PC",
        "outputId": "db9d6b51-4076-4086-e235-3e477acb837f"
      },
      "execution_count": null,
      "outputs": [
        {
          "output_type": "execute_result",
          "data": {
            "text/plain": [
              "array([1, 2, 3], dtype=int16)"
            ]
          },
          "metadata": {},
          "execution_count": 42
        }
      ]
    },
    {
      "cell_type": "code",
      "source": [
        "a = np.array( [ 255, 300, 128], dtype=np.uint8 )\n",
        "a"
      ],
      "metadata": {
        "colab": {
          "base_uri": "https://localhost:8080/"
        },
        "id": "TBBzhwi1_mFA",
        "outputId": "6ba9a5b2-e794-4e63-c00f-f3b799a7fea0"
      },
      "execution_count": null,
      "outputs": [
        {
          "output_type": "execute_result",
          "data": {
            "text/plain": [
              "array([255,  44, 128], dtype=uint8)"
            ]
          },
          "metadata": {},
          "execution_count": 43
        }
      ]
    },
    {
      "cell_type": "markdown",
      "source": [
        "#021~030"
      ],
      "metadata": {
        "id": "tmaYe1kgrHaz"
      }
    },
    {
      "cell_type": "code",
      "source": [
        "import numpy as np\n",
        "arr = np.array([1.1, 2.1, 3.1])\n",
        "arr2 = arr.astype(np.int32)\n",
        "arr2"
      ],
      "metadata": {
        "id": "--0YhT1s_ixk",
        "colab": {
          "base_uri": "https://localhost:8080/"
        },
        "outputId": "3293a0f6-28c9-40e5-8b79-1db3512a5fbd"
      },
      "execution_count": 3,
      "outputs": [
        {
          "output_type": "execute_result",
          "data": {
            "text/plain": [
              "array([1, 2, 3], dtype=int32)"
            ]
          },
          "metadata": {},
          "execution_count": 3
        }
      ]
    },
    {
      "cell_type": "code",
      "source": [
        "np.linspace(0, 10, 20)"
      ],
      "metadata": {
        "colab": {
          "base_uri": "https://localhost:8080/"
        },
        "id": "mbCuh2XQtKZc",
        "outputId": "bc4bf057-5a15-467f-ab6f-fcbfc130a33f"
      },
      "execution_count": 4,
      "outputs": [
        {
          "output_type": "execute_result",
          "data": {
            "text/plain": [
              "array([ 0.        ,  0.52631579,  1.05263158,  1.57894737,  2.10526316,\n",
              "        2.63157895,  3.15789474,  3.68421053,  4.21052632,  4.73684211,\n",
              "        5.26315789,  5.78947368,  6.31578947,  6.84210526,  7.36842105,\n",
              "        7.89473684,  8.42105263,  8.94736842,  9.47368421, 10.        ])"
            ]
          },
          "metadata": {},
          "execution_count": 4
        }
      ]
    },
    {
      "cell_type": "code",
      "source": [],
      "metadata": {
        "id": "rQc7iZdcuALb"
      },
      "execution_count": null,
      "outputs": []
    }
  ]
}